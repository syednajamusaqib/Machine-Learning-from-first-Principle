{
 "cells": [
  {
   "cell_type": "markdown",
   "id": "984b67e6-ecc9-43c7-abfb-986500736011",
   "metadata": {},
   "source": [
    "# Machine Learning from First Principles  \n",
    "\n",
    "## Overview  \n",
    "This notebook presents a step-by-step implementation of fundamental machine learning models using mathematical formulations. The approach follows a structured methodology to bridge the gap between theoretical understanding and practical implementation.  \n",
    "\n",
    "## Approach  \n",
    "\n",
    "1. **Implementation Using Built-in Libraries**  \n",
    "   - Utilize established machine learning libraries (e.g., `scikit-learn`).  \n",
    "   - Observe model behavior and performance using predefined functions.  \n",
    "\n",
    "2. **Mathematical Reconstruction**  \n",
    "   - Implement the same models from scratch using mathematical foundations.  \n",
    "   - Derive necessary equations for optimization and estimation.  \n",
    "   - Validate results by comparing with built-in implementations.  \n",
    "\n",
    "## Models Covered  \n",
    "\n",
    "- **Simple Linear Regression**  \n",
    "- **Multiple Linear Regression**  \n",
    "- **Gradient Descent Optimization**  \n",
    "- **Polynomial Regression**  \n",
    "- **Lasso and Ridge Regression (Regularization)**  \n",
    "\n",
    "## Objectives  \n",
    "\n",
    "- Develop a clear mathematical intuition behind each model.  \n",
    "- Implement machine learning algorithms without relying on external libraries.  \n",
    "- Compare results with standard implementations to ensure correctness and efficiency.  \n",
    "\n",
    "This notebook serves as a foundation for understanding core machine learning concepts through practical mathematical derivations and implementation.  \n"
   ]
  },
  {
   "cell_type": "code",
   "execution_count": 2,
   "id": "877112fb-6c05-42f7-85bc-6530bd046a85",
   "metadata": {},
   "outputs": [],
   "source": [
    "import pandas as pd\n",
    "import numpy as np\n",
    "import matplotlib.pyplot as plt\n",
    "from sklearn.linear_model import LinearRegression\n",
    "from sklearn.metrics import r2_score,mean_absolute_error,mean_squared_error\n",
    "from sklearn.datasets import make_regression"
   ]
  },
  {
   "cell_type": "markdown",
   "id": "3bd919f7-7921-4bd2-99e4-76d2f8ede445",
   "metadata": {},
   "source": [
    "### Simple Linear Regression"
   ]
  },
  {
   "cell_type": "code",
   "execution_count": 6,
   "id": "bcfe04e8-dcf1-4ebd-b4c9-123aa7d7d792",
   "metadata": {},
   "outputs": [
    {
     "data": {
      "text/plain": [
       "((200, 1), (200,))"
      ]
     },
     "execution_count": 6,
     "metadata": {},
     "output_type": "execute_result"
    }
   ],
   "source": [
    "X,y = make_regression(n_samples=200,n_features=1,n_informative=1,n_targets=1,noise=30)\n",
    "X.shape,y.shape"
   ]
  },
  {
   "cell_type": "code",
   "execution_count": 14,
   "id": "1b447d7b-4d7c-40df-9484-996ac7128c24",
   "metadata": {},
   "outputs": [
    {
     "data": {
      "image/png": "[encoded data removed]",
      "text/plain": [
       "<Figure size 640x480 with 1 Axes>"
      ]
     },
     "metadata": {},
     "output_type": "display_data"
    }
   ],
   "source": [
    "# Plotting data\n",
    "plt.scatter(X,y)\n",
    "plt.show()"
   ]
  },
  {
   "cell_type": "code",
   "execution_count": 15,
   "id": "c73fe9bb-ce3a-4871-840e-7bc3a78dd1d4",
   "metadata": {},
   "outputs": [],
   "source": [
    "from sklearn.model_selection import train_test_split\n",
    "X_train,X_test,y_train,y_test = train_test_split(X,y,test_size=0.2,random_state=2)"
   ]
  },
  {
   "cell_type": "code",
   "execution_count": 16,
   "id": "004456c9-88ba-47ee-8e5c-6efddbc27646",
   "metadata": {},
   "outputs": [
    {
     "data": {
      "text/plain": [
       "((160, 1), (40, 1))"
      ]
     },
     "execution_count": 16,
     "metadata": {},
     "output_type": "execute_result"
    }
   ],
   "source": [
    "X_train.shape,X_test.shape"
   ]
  },
  {
   "cell_type": "code",
   "execution_count": 17,
   "id": "6b707d80-61b6-416e-b960-917737fe6d73",
   "metadata": {},
   "outputs": [],
   "source": [
    "lr = LinearRegression()"
   ]
  },
  {
   "cell_type": "code",
   "execution_count": 19,
   "id": "893bc211-3428-4a37-a0a6-9c4c987f7c9f",
   "metadata": {},
   "outputs": [
    {
     "data": {
      "text/html": [
       "<style>#sk-container-id-2 {\n",
       "  /* Definition of color scheme common for light and dark mode */\n",
       "  --sklearn-color-text: #000;\n",
       "  --sklearn-color-text-muted: #666;\n",
       "  --sklearn-color-line: gray;\n",
       "  /* Definition of color scheme for unfitted estimators */\n",
       "  --sklearn-color-unfitted-level-0: #fff5e6;\n",
       "  --sklearn-color-unfitted-level-1: #f6e4d2;\n",
       "  --sklearn-color-unfitted-level-2: #ffe0b3;\n",
       "  --sklearn-color-unfitted-level-3: chocolate;\n",
       "  /* Definition of color scheme for fitted estimators */\n",
       "  --sklearn-color-fitted-level-0: #f0f8ff;\n",
       "  --sklearn-color-fitted-level-1: #d4ebff;\n",
       "  --sklearn-color-fitted-level-2: #b3dbfd;\n",
       "  --sklearn-color-fitted-level-3: cornflowerblue;\n",
       "\n",
       "  /* Specific color for light theme */\n",
       "  --sklearn-color-text-on-default-background: var(--sg-text-color, var(--theme-code-foreground, var(--jp-content-font-color1, black)));\n",
       "  --sklearn-color-background: var(--sg-background-color, var(--theme-background, var(--jp-layout-color0, white)));\n",
       "  --sklearn-color-border-box: var(--sg-text-color, var(--theme-code-foreground, var(--jp-content-font-color1, black)));\n",
       "  --sklearn-color-icon: #696969;\n",
       "\n",
       "  @media (prefers-color-scheme: dark) {\n",
       "    /* Redefinition of color scheme for dark theme */\n",
       "    --sklearn-color-text-on-default-background: var(--sg-text-color, var(--theme-code-foreground, var(--jp-content-font-color1, white)));\n",
       "    --sklearn-color-background: var(--sg-background-color, var(--theme-background, var(--jp-layout-color0, #111)));\n",
       "    --sklearn-color-border-box: var(--sg-text-color, var(--theme-code-foreground, var(--jp-content-font-color1, white)));\n",
       "    --sklearn-color-icon: #878787;\n",
       "  }\n",
       "}\n",
       "\n",
       "#sk-container-id-2 {\n",
       "  color: var(--sklearn-color-text);\n",
       "}\n",
       "\n",
       "#sk-container-id-2 pre {\n",
       "  padding: 0;\n",
       "}\n",
       "\n",
       "#sk-container-id-2 input.sk-hidden--visually {\n",
       "  border: 0;\n",
       "  clip: rect(1px 1px 1px 1px);\n",
       "  clip: rect(1px, 1px, 1px, 1px);\n",
       "  height: 1px;\n",
       "  margin: -1px;\n",
       "  overflow: hidden;\n",
       "  padding: 0;\n",
       "  position: absolute;\n",
       "  width: 1px;\n",
       "}\n",
       "\n",
       "#sk-container-id-2 div.sk-dashed-wrapped {\n",
       "  border: 1px dashed var(--sklearn-color-line);\n",
       "  margin: 0 0.4em 0.5em 0.4em;\n",
       "  box-sizing: border-box;\n",
       "  padding-bottom: 0.4em;\n",
       "  background-color: var(--sklearn-color-background);\n",
       "}\n",
       "\n",
       "#sk-container-id-2 div.sk-container {\n",
       "  /* jupyter's `normalize.less` sets `[hidden] { display: none; }`\n",
       "     but bootstrap.min.css set `[hidden] { display: none !important; }`\n",
       "     so we also need the `!important` here to be able to override the\n",
       "     default hidden behavior on the sphinx rendered scikit-learn.org.\n",
       "     See: https://github.com/scikit-learn/scikit-learn/issues/21755 */\n",
       "  display: inline-block !important;\n",
       "  position: relative;\n",
       "}\n",
       "\n",
       "#sk-container-id-2 div.sk-text-repr-fallback {\n",
       "  display: none;\n",
       "}\n",
       "\n",
       "div.sk-parallel-item,\n",
       "div.sk-serial,\n",
       "div.sk-item {\n",
       "  /* draw centered vertical line to link estimators */\n",
       "  background-image: linear-gradient(var(--sklearn-color-text-on-default-background), var(--sklearn-color-text-on-default-background));\n",
       "  background-size: 2px 100%;\n",
       "  background-repeat: no-repeat;\n",
       "  background-position: center center;\n",
       "}\n",
       "\n",
       "/* Parallel-specific style estimator block */\n",
       "\n",
       "#sk-container-id-2 div.sk-parallel-item::after {\n",
       "  content: \"\";\n",
       "  width: 100%;\n",
       "  border-bottom: 2px solid var(--sklearn-color-text-on-default-background);\n",
       "  flex-grow: 1;\n",
       "}\n",
       "\n",
       "#sk-container-id-2 div.sk-parallel {\n",
       "  display: flex;\n",
       "  align-items: stretch;\n",
       "  justify-content: center;\n",
       "  background-color: var(--sklearn-color-background);\n",
       "  position: relative;\n",
       "}\n",
       "\n",
       "#sk-container-id-2 div.sk-parallel-item {\n",
       "  display: flex;\n",
       "  flex-direction: column;\n",
       "}\n",
       "\n",
       "#sk-container-id-2 div.sk-parallel-item:first-child::after {\n",
       "  align-self: flex-end;\n",
       "  width: 50%;\n",
       "}\n",
       "\n",
       "#sk-container-id-2 div.sk-parallel-item:last-child::after {\n",
       "  align-self: flex-start;\n",
       "  width: 50%;\n",
       "}\n",
       "\n",
       "#sk-container-id-2 div.sk-parallel-item:only-child::after {\n",
       "  width: 0;\n",
       "}\n",
       "\n",
       "/* Serial-specific style estimator block */\n",
       "\n",
       "#sk-container-id-2 div.sk-serial {\n",
       "  display: flex;\n",
       "  flex-direction: column;\n",
       "  align-items: center;\n",
       "  background-color: var(--sklearn-color-background);\n",
       "  padding-right: 1em;\n",
       "  padding-left: 1em;\n",
       "}\n",
       "\n",
       "\n",
       "/* Toggleable style: style used for estimator/Pipeline/ColumnTransformer box that is\n",
       "clickable and can be expanded/collapsed.\n",
       "- Pipeline and ColumnTransformer use this feature and define the default style\n",
       "- Estimators will overwrite some part of the style using the `sk-estimator` class\n",
       "*/\n",
       "\n",
       "/* Pipeline and ColumnTransformer style (default) */\n",
       "\n",
       "#sk-container-id-2 div.sk-toggleable {\n",
       "  /* Default theme specific background. It is overwritten whether we have a\n",
       "  specific estimator or a Pipeline/ColumnTransformer */\n",
       "  background-color: var(--sklearn-color-background);\n",
       "}\n",
       "\n",
       "/* Toggleable label */\n",
       "#sk-container-id-2 label.sk-toggleable__label {\n",
       "  cursor: pointer;\n",
       "  display: flex;\n",
       "  width: 100%;\n",
       "  margin-bottom: 0;\n",
       "  padding: 0.5em;\n",
       "  box-sizing: border-box;\n",
       "  text-align: center;\n",
       "  align-items: start;\n",
       "  justify-content: space-between;\n",
       "  gap: 0.5em;\n",
       "}\n",
       "\n",
       "#sk-container-id-2 label.sk-toggleable__label .caption {\n",
       "  font-size: 0.6rem;\n",
       "  font-weight: lighter;\n",
       "  color: var(--sklearn-color-text-muted);\n",
       "}\n",
       "\n",
       "#sk-container-id-2 label.sk-toggleable__label-arrow:before {\n",
       "  /* Arrow on the left of the label */\n",
       "  content: \"▸\";\n",
       "  float: left;\n",
       "  margin-right: 0.25em;\n",
       "  color: var(--sklearn-color-icon);\n",
       "}\n",
       "\n",
       "#sk-container-id-2 label.sk-toggleable__label-arrow:hover:before {\n",
       "  color: var(--sklearn-color-text);\n",
       "}\n",
       "\n",
       "/* Toggleable content - dropdown */\n",
       "\n",
       "#sk-container-id-2 div.sk-toggleable__content {\n",
       "  max-height: 0;\n",
       "  max-width: 0;\n",
       "  overflow: hidden;\n",
       "  text-align: left;\n",
       "  /* unfitted */\n",
       "  background-color: var(--sklearn-color-unfitted-level-0);\n",
       "}\n",
       "\n",
       "#sk-container-id-2 div.sk-toggleable__content.fitted {\n",
       "  /* fitted */\n",
       "  background-color: var(--sklearn-color-fitted-level-0);\n",
       "}\n",
       "\n",
       "#sk-container-id-2 div.sk-toggleable__content pre {\n",
       "  margin: 0.2em;\n",
       "  border-radius: 0.25em;\n",
       "  color: var(--sklearn-color-text);\n",
       "  /* unfitted */\n",
       "  background-color: var(--sklearn-color-unfitted-level-0);\n",
       "}\n",
       "\n",
       "#sk-container-id-2 div.sk-toggleable__content.fitted pre {\n",
       "  /* unfitted */\n",
       "  background-color: var(--sklearn-color-fitted-level-0);\n",
       "}\n",
       "\n",
       "#sk-container-id-2 input.sk-toggleable__control:checked~div.sk-toggleable__content {\n",
       "  /* Expand drop-down */\n",
       "  max-height: 200px;\n",
       "  max-width: 100%;\n",
       "  overflow: auto;\n",
       "}\n",
       "\n",
       "#sk-container-id-2 input.sk-toggleable__control:checked~label.sk-toggleable__label-arrow:before {\n",
       "  content: \"▾\";\n",
       "}\n",
       "\n",
       "/* Pipeline/ColumnTransformer-specific style */\n",
       "\n",
       "#sk-container-id-2 div.sk-label input.sk-toggleable__control:checked~label.sk-toggleable__label {\n",
       "  color: var(--sklearn-color-text);\n",
       "  background-color: var(--sklearn-color-unfitted-level-2);\n",
       "}\n",
       "\n",
       "#sk-container-id-2 div.sk-label.fitted input.sk-toggleable__control:checked~label.sk-toggleable__label {\n",
       "  background-color: var(--sklearn-color-fitted-level-2);\n",
       "}\n",
       "\n",
       "/* Estimator-specific style */\n",
       "\n",
       "/* Colorize estimator box */\n",
       "#sk-container-id-2 div.sk-estimator input.sk-toggleable__control:checked~label.sk-toggleable__label {\n",
       "  /* unfitted */\n",
       "  background-color: var(--sklearn-color-unfitted-level-2);\n",
       "}\n",
       "\n",
       "#sk-container-id-2 div.sk-estimator.fitted input.sk-toggleable__control:checked~label.sk-toggleable__label {\n",
       "  /* fitted */\n",
       "  background-color: var(--sklearn-color-fitted-level-2);\n",
       "}\n",
       "\n",
       "#sk-container-id-2 div.sk-label label.sk-toggleable__label,\n",
       "#sk-container-id-2 div.sk-label label {\n",
       "  /* The background is the default theme color */\n",
       "  color: var(--sklearn-color-text-on-default-background);\n",
       "}\n",
       "\n",
       "/* On hover, darken the color of the background */\n",
       "#sk-container-id-2 div.sk-label:hover label.sk-toggleable__label {\n",
       "  color: var(--sklearn-color-text);\n",
       "  background-color: var(--sklearn-color-unfitted-level-2);\n",
       "}\n",
       "\n",
       "/* Label box, darken color on hover, fitted */\n",
       "#sk-container-id-2 div.sk-label.fitted:hover label.sk-toggleable__label.fitted {\n",
       "  color: var(--sklearn-color-text);\n",
       "  background-color: var(--sklearn-color-fitted-level-2);\n",
       "}\n",
       "\n",
       "/* Estimator label */\n",
       "\n",
       "#sk-container-id-2 div.sk-label label {\n",
       "  font-family: monospace;\n",
       "  font-weight: bold;\n",
       "  display: inline-block;\n",
       "  line-height: 1.2em;\n",
       "}\n",
       "\n",
       "#sk-container-id-2 div.sk-label-container {\n",
       "  text-align: center;\n",
       "}\n",
       "\n",
       "/* Estimator-specific */\n",
       "#sk-container-id-2 div.sk-estimator {\n",
       "  font-family: monospace;\n",
       "  border: 1px dotted var(--sklearn-color-border-box);\n",
       "  border-radius: 0.25em;\n",
       "  box-sizing: border-box;\n",
       "  margin-bottom: 0.5em;\n",
       "  /* unfitted */\n",
       "  background-color: var(--sklearn-color-unfitted-level-0);\n",
       "}\n",
       "\n",
       "#sk-container-id-2 div.sk-estimator.fitted {\n",
       "  /* fitted */\n",
       "  background-color: var(--sklearn-color-fitted-level-0);\n",
       "}\n",
       "\n",
       "/* on hover */\n",
       "#sk-container-id-2 div.sk-estimator:hover {\n",
       "  /* unfitted */\n",
       "  background-color: var(--sklearn-color-unfitted-level-2);\n",
       "}\n",
       "\n",
       "#sk-container-id-2 div.sk-estimator.fitted:hover {\n",
       "  /* fitted */\n",
       "  background-color: var(--sklearn-color-fitted-level-2);\n",
       "}\n",
       "\n",
       "/* Specification for estimator info (e.g. \"i\" and \"?\") */\n",
       "\n",
       "/* Common style for \"i\" and \"?\" */\n",
       "\n",
       ".sk-estimator-doc-link,\n",
       "a:link.sk-estimator-doc-link,\n",
       "a:visited.sk-estimator-doc-link {\n",
       "  float: right;\n",
       "  font-size: smaller;\n",
       "  line-height: 1em;\n",
       "  font-family: monospace;\n",
       "  background-color: var(--sklearn-color-background);\n",
       "  border-radius: 1em;\n",
       "  height: 1em;\n",
       "  width: 1em;\n",
       "  text-decoration: none !important;\n",
       "  margin-left: 0.5em;\n",
       "  text-align: center;\n",
       "  /* unfitted */\n",
       "  border: var(--sklearn-color-unfitted-level-1) 1pt solid;\n",
       "  color: var(--sklearn-color-unfitted-level-1);\n",
       "}\n",
       "\n",
       ".sk-estimator-doc-link.fitted,\n",
       "a:link.sk-estimator-doc-link.fitted,\n",
       "a:visited.sk-estimator-doc-link.fitted {\n",
       "  /* fitted */\n",
       "  border: var(--sklearn-color-fitted-level-1) 1pt solid;\n",
       "  color: var(--sklearn-color-fitted-level-1);\n",
       "}\n",
       "\n",
       "/* On hover */\n",
       "div.sk-estimator:hover .sk-estimator-doc-link:hover,\n",
       ".sk-estimator-doc-link:hover,\n",
       "div.sk-label-container:hover .sk-estimator-doc-link:hover,\n",
       ".sk-estimator-doc-link:hover {\n",
       "  /* unfitted */\n",
       "  background-color: var(--sklearn-color-unfitted-level-3);\n",
       "  color: var(--sklearn-color-background);\n",
       "  text-decoration: none;\n",
       "}\n",
       "\n",
       "div.sk-estimator.fitted:hover .sk-estimator-doc-link.fitted:hover,\n",
       ".sk-estimator-doc-link.fitted:hover,\n",
       "div.sk-label-container:hover .sk-estimator-doc-link.fitted:hover,\n",
       ".sk-estimator-doc-link.fitted:hover {\n",
       "  /* fitted */\n",
       "  background-color: var(--sklearn-color-fitted-level-3);\n",
       "  color: var(--sklearn-color-background);\n",
       "  text-decoration: none;\n",
       "}\n",
       "\n",
       "/* Span, style for the box shown on hovering the info icon */\n",
       ".sk-estimator-doc-link span {\n",
       "  display: none;\n",
       "  z-index: 9999;\n",
       "  position: relative;\n",
       "  font-weight: normal;\n",
       "  right: .2ex;\n",
       "  padding: .5ex;\n",
       "  margin: .5ex;\n",
       "  width: min-content;\n",
       "  min-width: 20ex;\n",
       "  max-width: 50ex;\n",
       "  color: var(--sklearn-color-text);\n",
       "  box-shadow: 2pt 2pt 4pt #999;\n",
       "  /* unfitted */\n",
       "  background: var(--sklearn-color-unfitted-level-0);\n",
       "  border: .5pt solid var(--sklearn-color-unfitted-level-3);\n",
       "}\n",
       "\n",
       ".sk-estimator-doc-link.fitted span {\n",
       "  /* fitted */\n",
       "  background: var(--sklearn-color-fitted-level-0);\n",
       "  border: var(--sklearn-color-fitted-level-3);\n",
       "}\n",
       "\n",
       ".sk-estimator-doc-link:hover span {\n",
       "  display: block;\n",
       "}\n",
       "\n",
       "/* \"?\"-specific style due to the `<a>` HTML tag */\n",
       "\n",
       "#sk-container-id-2 a.estimator_doc_link {\n",
       "  float: right;\n",
       "  font-size: 1rem;\n",
       "  line-height: 1em;\n",
       "  font-family: monospace;\n",
       "  background-color: var(--sklearn-color-background);\n",
       "  border-radius: 1rem;\n",
       "  height: 1rem;\n",
       "  width: 1rem;\n",
       "  text-decoration: none;\n",
       "  /* unfitted */\n",
       "  color: var(--sklearn-color-unfitted-level-1);\n",
       "  border: var(--sklearn-color-unfitted-level-1) 1pt solid;\n",
       "}\n",
       "\n",
       "#sk-container-id-2 a.estimator_doc_link.fitted {\n",
       "  /* fitted */\n",
       "  border: var(--sklearn-color-fitted-level-1) 1pt solid;\n",
       "  color: var(--sklearn-color-fitted-level-1);\n",
       "}\n",
       "\n",
       "/* On hover */\n",
       "#sk-container-id-2 a.estimator_doc_link:hover {\n",
       "  /* unfitted */\n",
       "  background-color: var(--sklearn-color-unfitted-level-3);\n",
       "  color: var(--sklearn-color-background);\n",
       "  text-decoration: none;\n",
       "}\n",
       "\n",
       "#sk-container-id-2 a.estimator_doc_link.fitted:hover {\n",
       "  /* fitted */\n",
       "  background-color: var(--sklearn-color-fitted-level-3);\n",
       "}\n",
       "</style><div id=\"sk-container-id-2\" class=\"sk-top-container\"><div class=\"sk-text-repr-fallback\"><pre>LinearRegression()</pre><b>In a Jupyter environment, please rerun this cell to show the HTML representation or trust the notebook. <br />On GitHub, the HTML representation is unable to render, please try loading this page with nbviewer.org.</b></div><div class=\"sk-container\" hidden><div class=\"sk-item\"><div class=\"sk-estimator fitted sk-toggleable\"><input class=\"sk-toggleable__control sk-hidden--visually\" id=\"sk-estimator-id-2\" type=\"checkbox\" checked><label for=\"sk-estimator-id-2\" class=\"sk-toggleable__label fitted sk-toggleable__label-arrow\"><div><div>LinearRegression</div></div><div><a class=\"sk-estimator-doc-link fitted\" rel=\"noreferrer\" target=\"_blank\" href=\"https://scikit-learn.org/1.6/modules/generated/sklearn.linear_model.LinearRegression.html\">?<span>Documentation for LinearRegression</span></a><span class=\"sk-estimator-doc-link fitted\">i<span>Fitted</span></span></div></label><div class=\"sk-toggleable__content fitted\"><pre>LinearRegression()</pre></div> </div></div></div></div>"
      ],
      "text/plain": [
       "LinearRegression()"
      ]
     },
     "execution_count": 19,
     "metadata": {},
     "output_type": "execute_result"
    }
   ],
   "source": [
    "lr.fit(X_train,y_train)"
   ]
  },
  {
   "cell_type": "code",
   "execution_count": 67,
   "id": "b46a4b10-0c4d-4101-bc29-0ac93f06df16",
   "metadata": {},
   "outputs": [],
   "source": [
    "y_pred = lr.predict(X_test)"
   ]
  },
  {
   "cell_type": "code",
   "execution_count": 68,
   "id": "60f65ab3-8ab1-49c0-98b9-fe0a335f65b9",
   "metadata": {},
   "outputs": [
    {
     "data": {
      "text/plain": [
       "((40,), (40,))"
      ]
     },
     "execution_count": 68,
     "metadata": {},
     "output_type": "execute_result"
    }
   ],
   "source": [
    "y_test.shape,y_pred.shape"
   ]
  },
  {
   "cell_type": "code",
   "execution_count": 69,
   "id": "43bff9d8-b052-4a3f-b6bc-f90fcccdf99d",
   "metadata": {},
   "outputs": [
    {
     "data": {
      "text/plain": [
       "0.8735684118649085"
      ]
     },
     "execution_count": 69,
     "metadata": {},
     "output_type": "execute_result"
    }
   ],
   "source": [
    "r2_score(y_test,y_pred)"
   ]
  },
  {
   "cell_type": "code",
   "execution_count": 23,
   "id": "1ec7c3bd-60cf-4b7f-bfd3-0c78a7535d1d",
   "metadata": {},
   "outputs": [
    {
     "data": {
      "text/plain": [
       "27.66312811097647"
      ]
     },
     "execution_count": 23,
     "metadata": {},
     "output_type": "execute_result"
    }
   ],
   "source": [
    "mean_absolute_error(y_test,y_pred)"
   ]
  },
  {
   "cell_type": "code",
   "execution_count": 24,
   "id": "af8df578-8bf6-4e53-8ef2-fd7f5b52fe85",
   "metadata": {},
   "outputs": [
    {
     "data": {
      "text/plain": [
       "1238.615912423643"
      ]
     },
     "execution_count": 24,
     "metadata": {},
     "output_type": "execute_result"
    }
   ],
   "source": [
    "mean_squared_error(y_test,y_pred)"
   ]
  },
  {
   "cell_type": "code",
   "execution_count": 48,
   "id": "b45bd69d-527e-48d1-983b-6fe11bad1e9b",
   "metadata": {},
   "outputs": [
    {
     "data": {
      "image/png": "[encoded data removed]",
      "text/plain": [
       "<Figure size 640x480 with 1 Axes>"
      ]
     },
     "metadata": {},
     "output_type": "display_data"
    }
   ],
   "source": [
    "plt.scatter(X,y)\n",
    "plt.plot(X_test,y_pred,color=\"r\")\n",
    "plt.show()"
   ]
  },
  {
   "cell_type": "code",
   "execution_count": 49,
   "id": "73d44bb0-e92c-423e-be0b-f8e39c74057e",
   "metadata": {},
   "outputs": [
    {
     "data": {
      "text/plain": [
       "(array([76.78343645]), 5.032209729142754)"
      ]
     },
     "execution_count": 49,
     "metadata": {},
     "output_type": "execute_result"
    }
   ],
   "source": [
    "lr.coef_,lr.intercept_"
   ]
  },
  {
   "cell_type": "markdown",
   "id": "44525320-8174-4ca4-b8fb-6d0769dd62ec",
   "metadata": {},
   "source": [
    "- Creating our own **Class**"
   ]
  },
  {
   "cell_type": "code",
   "execution_count": 70,
   "id": "95b15fed-26f9-4b3d-b8b3-91dcdca460a5",
   "metadata": {},
   "outputs": [],
   "source": [
    "class SimpleLinearRegression:\n",
    "    def __init__(self):\n",
    "        self.b = None\n",
    "        self.m = None\n",
    "\n",
    "    def fit(self,X_train,y_train):\n",
    "        num = 0\n",
    "        den = 0\n",
    "\n",
    "        for i in range(X_train.shape[0]):\n",
    "            num = num + ( (y_train[i] - y_train.mean()) * (X_train[i] - X_train.mean()) )\n",
    "            den = den + ( (X_train[i] - X_train.mean()) ** 2 )\n",
    "            \n",
    "        self.m = num / den\n",
    "        self.b = y_train.mean() - np.dot(  X_train.mean() ,self.m )\n",
    "\n",
    "        return self.b,self.m\n",
    "    def predict(self,X_test):\n",
    "        y_pred = np.dot(X_test,self.m) + self.b\n",
    "        return y_pred"
   ]
  },
  {
   "cell_type": "code",
   "execution_count": 71,
   "id": "76a0d627-3164-4f0c-8a47-c9d57f307db1",
   "metadata": {},
   "outputs": [],
   "source": [
    "simpleLR = SimpleLinearRegression()"
   ]
  },
  {
   "cell_type": "code",
   "execution_count": 72,
   "id": "ec85dcfe-1303-426b-b3df-38bb3c06e844",
   "metadata": {},
   "outputs": [
    {
     "data": {
      "text/plain": [
       "(array([5.03220973]), array([76.78343645]))"
      ]
     },
     "execution_count": 72,
     "metadata": {},
     "output_type": "execute_result"
    }
   ],
   "source": [
    "simpleLR.fit(X_train,y_train)"
   ]
  },
  {
   "cell_type": "code",
   "execution_count": 73,
   "id": "dea926a2-8134-4c73-80ba-fff240e96c69",
   "metadata": {},
   "outputs": [],
   "source": [
    "y_pred = simpleLR.predict(X_test)"
   ]
  },
  {
   "cell_type": "code",
   "execution_count": 74,
   "id": "09d31c8f-ea2a-45b6-a7ef-dd555945aa78",
   "metadata": {},
   "outputs": [
    {
     "data": {
      "text/plain": [
       "((40,), (40,))"
      ]
     },
     "execution_count": 74,
     "metadata": {},
     "output_type": "execute_result"
    }
   ],
   "source": [
    "y_test.shape,y_pred.shape"
   ]
  },
  {
   "cell_type": "code",
   "execution_count": 75,
   "id": "69c8de61-5f1b-4578-aaf2-8a0b6177ffb9",
   "metadata": {},
   "outputs": [
    {
     "data": {
      "text/plain": [
       "0.8735684118649085"
      ]
     },
     "execution_count": 75,
     "metadata": {},
     "output_type": "execute_result"
    }
   ],
   "source": [
    "r2_score(y_test,y_pred)"
   ]
  },
  {
   "cell_type": "code",
   "execution_count": 76,
   "id": "eeae3cbe-3f6e-4924-8a55-325b9ce7c088",
   "metadata": {},
   "outputs": [
    {
     "data": {
      "text/plain": [
       "27.66312811097647"
      ]
     },
     "execution_count": 76,
     "metadata": {},
     "output_type": "execute_result"
    }
   ],
   "source": [
    "mean_absolute_error(y_test,y_pred)"
   ]
  },
  {
   "cell_type": "code",
   "execution_count": 77,
   "id": "394ef23c-9658-4ebb-b8e9-c77e4534a066",
   "metadata": {},
   "outputs": [
    {
     "data": {
      "text/plain": [
       "1238.6159124236426"
      ]
     },
     "execution_count": 77,
     "metadata": {},
     "output_type": "execute_result"
    }
   ],
   "source": [
    "mean_squared_error(y_test,y_pred)"
   ]
  },
  {
   "cell_type": "markdown",
   "id": "95754e64-1f75-4ee5-92c2-c21a1aa19070",
   "metadata": {},
   "source": [
    "## Model Results: [Simple Linear Regression]  \n",
    "\n",
    "### Coefficients  \n",
    "\n",
    "The learned coefficients for the [Simple Linear Regression] are as follows:  \n",
    "\n",
    "- **Intercept (Bias Term):** `{5.032209729142754}`  \n",
    "- **Feature Coefficients:**  `{76.78343645}`\n",
    "\n",
    "### Model Performance  \n",
    "\n",
    "- **Mean Squared Error (MSE):** `{1238.6159124236426}`\n",
    "- **Mean Absolute Error (MSE):** `{27.66312811097647}`  \n",
    "- **R² Score:** `{0.8735684118649085}`  \n",
    "\n",
    "These values indicate how the model has learned the underlying patterns in the data. Further comparisons with built-in implementations ensure correctness.\n"
   ]
  },
  {
   "cell_type": "markdown",
   "id": "afc976cb-cb9b-4cbf-86be-36eb51582419",
   "metadata": {},
   "source": [
    "### Multiple Linear Regression"
   ]
  },
  {
   "cell_type": "code",
   "execution_count": 78,
   "id": "1c7b31b4-752c-417c-bc5f-9fe80e3516a3",
   "metadata": {},
   "outputs": [],
   "source": [
    "X,y = make_regression(n_samples=150,n_features=2,n_informative=2,n_targets=1,noise=20)"
   ]
  },
  {
   "cell_type": "code",
   "execution_count": 80,
   "id": "69be119f-e7c4-4fb1-bfc5-37efa0d0846a",
   "metadata": {},
   "outputs": [
    {
     "data": {
      "text/plain": [
       "((150, 2), (150,))"
      ]
     },
     "execution_count": 80,
     "metadata": {},
     "output_type": "execute_result"
    }
   ],
   "source": [
    "X.shape,y.shape"
   ]
  },
  {
   "cell_type": "code",
   "execution_count": 81,
   "id": "48dedd53-b8de-4901-b7aa-2fdf5d8d96dc",
   "metadata": {},
   "outputs": [],
   "source": [
    "import plotly.express as px"
   ]
  },
  {
   "cell_type": "code",
   "execution_count": 84,
   "id": "259d0f00-082f-433c-954d-d219f1bd10b0",
   "metadata": {},
   "outputs": [],
   "source": [
    "df = pd.DataFrame({\n",
    "    \"X1\": X[:,0],\n",
    "    \"X2\": X[:,1],\n",
    "    \"y\": y\n",
    "})"
   ]
  },
  {
   "cell_type": "code",
   "execution_count": 85,
   "id": "748b0f3f-ec58-4888-9a13-83f65bc90a8c",
   "metadata": {},
   "outputs": [
    {
     "data": {
      "text/html": [
       "<div>\n",
       "<style scoped>\n",
       "    .dataframe tbody tr th:only-of-type {\n",
       "        vertical-align: middle;\n",
       "    }\n",
       "\n",
       "    .dataframe tbody tr th {\n",
       "        vertical-align: top;\n",
       "    }\n",
       "\n",
       "    .dataframe thead th {\n",
       "        text-align: right;\n",
       "    }\n",
       "</style>\n",
       "<table border=\"1\" class=\"dataframe\">\n",
       "  <thead>\n",
       "    <tr style=\"text-align: right;\">\n",
       "      <th></th>\n",
       "      <th>X1</th>\n",
       "      <th>X2</th>\n",
       "      <th>y</th>\n",
       "    </tr>\n",
       "  </thead>\n",
       "  <tbody>\n",
       "    <tr>\n",
       "      <th>0</th>\n",
       "      <td>-0.334259</td>\n",
       "      <td>0.416188</td>\n",
       "      <td>-56.740088</td>\n",
       "    </tr>\n",
       "    <tr>\n",
       "      <th>1</th>\n",
       "      <td>0.739601</td>\n",
       "      <td>-0.923554</td>\n",
       "      <td>42.635803</td>\n",
       "    </tr>\n",
       "    <tr>\n",
       "      <th>2</th>\n",
       "      <td>-1.226308</td>\n",
       "      <td>-0.137057</td>\n",
       "      <td>-76.631668</td>\n",
       "    </tr>\n",
       "    <tr>\n",
       "      <th>3</th>\n",
       "      <td>-1.570428</td>\n",
       "      <td>1.368411</td>\n",
       "      <td>-142.015929</td>\n",
       "    </tr>\n",
       "    <tr>\n",
       "      <th>4</th>\n",
       "      <td>-0.387291</td>\n",
       "      <td>-0.595177</td>\n",
       "      <td>-48.678509</td>\n",
       "    </tr>\n",
       "  </tbody>\n",
       "</table>\n",
       "</div>"
      ],
      "text/plain": [
       "         X1        X2           y\n",
       "0 -0.334259  0.416188  -56.740088\n",
       "1  0.739601 -0.923554   42.635803\n",
       "2 -1.226308 -0.137057  -76.631668\n",
       "3 -1.570428  1.368411 -142.015929\n",
       "4 -0.387291 -0.595177  -48.678509"
      ]
     },
     "execution_count": 85,
     "metadata": {},
     "output_type": "execute_result"
    }
   ],
   "source": [
    "df.head()"
   ]
  },
  {
   "cell_type": "code",
   "execution_count": 92,
   "id": "f3780222-27b8-4505-a892-eaea3150bb6c",
   "metadata": {},
   "outputs": [],
   "source": [
    "# px.scatter_3d(df,x=\"X1\",y=\"X2\",z=y)"
   ]
  },
  {
   "cell_type": "code",
   "execution_count": 101,
   "id": "dd529739-dbdd-47f9-8fb9-d52963f7db98",
   "metadata": {},
   "outputs": [
    {
     "data": {
      "text/plain": [
       "(30, 2)"
      ]
     },
     "execution_count": 101,
     "metadata": {},
     "output_type": "execute_result"
    }
   ],
   "source": [
    "X_train,X_test,y_train,y_test = train_test_split(X,y,test_size=0.2,random_state=2)\n",
    "X_test.shape"
   ]
  },
  {
   "cell_type": "code",
   "execution_count": 94,
   "id": "2f21d1a3-748a-4e1d-9272-d48e601c8058",
   "metadata": {},
   "outputs": [],
   "source": [
    "lr = LinearRegression()"
   ]
  },
  {
   "cell_type": "code",
   "execution_count": 95,
   "id": "4bb27e81-de46-4d9d-b8a8-7e17208beaa4",
   "metadata": {},
   "outputs": [
    {
     "data": {
      "text/html": [
       "<style>#sk-container-id-4 {\n",
       "  /* Definition of color scheme common for light and dark mode */\n",
       "  --sklearn-color-text: #000;\n",
       "  --sklearn-color-text-muted: #666;\n",
       "  --sklearn-color-line: gray;\n",
       "  /* Definition of color scheme for unfitted estimators */\n",
       "  --sklearn-color-unfitted-level-0: #fff5e6;\n",
       "  --sklearn-color-unfitted-level-1: #f6e4d2;\n",
       "  --sklearn-color-unfitted-level-2: #ffe0b3;\n",
       "  --sklearn-color-unfitted-level-3: chocolate;\n",
       "  /* Definition of color scheme for fitted estimators */\n",
       "  --sklearn-color-fitted-level-0: #f0f8ff;\n",
       "  --sklearn-color-fitted-level-1: #d4ebff;\n",
       "  --sklearn-color-fitted-level-2: #b3dbfd;\n",
       "  --sklearn-color-fitted-level-3: cornflowerblue;\n",
       "\n",
       "  /* Specific color for light theme */\n",
       "  --sklearn-color-text-on-default-background: var(--sg-text-color, var(--theme-code-foreground, var(--jp-content-font-color1, black)));\n",
       "  --sklearn-color-background: var(--sg-background-color, var(--theme-background, var(--jp-layout-color0, white)));\n",
       "  --sklearn-color-border-box: var(--sg-text-color, var(--theme-code-foreground, var(--jp-content-font-color1, black)));\n",
       "  --sklearn-color-icon: #696969;\n",
       "\n",
       "  @media (prefers-color-scheme: dark) {\n",
       "    /* Redefinition of color scheme for dark theme */\n",
       "    --sklearn-color-text-on-default-background: var(--sg-text-color, var(--theme-code-foreground, var(--jp-content-font-color1, white)));\n",
       "    --sklearn-color-background: var(--sg-background-color, var(--theme-background, var(--jp-layout-color0, #111)));\n",
       "    --sklearn-color-border-box: var(--sg-text-color, var(--theme-code-foreground, var(--jp-content-font-color1, white)));\n",
       "    --sklearn-color-icon: #878787;\n",
       "  }\n",
       "}\n",
       "\n",
       "#sk-container-id-4 {\n",
       "  color: var(--sklearn-color-text);\n",
       "}\n",
       "\n",
       "#sk-container-id-4 pre {\n",
       "  padding: 0;\n",
       "}\n",
       "\n",
       "#sk-container-id-4 input.sk-hidden--visually {\n",
       "  border: 0;\n",
       "  clip: rect(1px 1px 1px 1px);\n",
       "  clip: rect(1px, 1px, 1px, 1px);\n",
       "  height: 1px;\n",
       "  margin: -1px;\n",
       "  overflow: hidden;\n",
       "  padding: 0;\n",
       "  position: absolute;\n",
       "  width: 1px;\n",
       "}\n",
       "\n",
       "#sk-container-id-4 div.sk-dashed-wrapped {\n",
       "  border: 1px dashed var(--sklearn-color-line);\n",
       "  margin: 0 0.4em 0.5em 0.4em;\n",
       "  box-sizing: border-box;\n",
       "  padding-bottom: 0.4em;\n",
       "  background-color: var(--sklearn-color-background);\n",
       "}\n",
       "\n",
       "#sk-container-id-4 div.sk-container {\n",
       "  /* jupyter's `normalize.less` sets `[hidden] { display: none; }`\n",
       "     but bootstrap.min.css set `[hidden] { display: none !important; }`\n",
       "     so we also need the `!important` here to be able to override the\n",
       "     default hidden behavior on the sphinx rendered scikit-learn.org.\n",
       "     See: https://github.com/scikit-learn/scikit-learn/issues/21755 */\n",
       "  display: inline-block !important;\n",
       "  position: relative;\n",
       "}\n",
       "\n",
       "#sk-container-id-4 div.sk-text-repr-fallback {\n",
       "  display: none;\n",
       "}\n",
       "\n",
       "div.sk-parallel-item,\n",
       "div.sk-serial,\n",
       "div.sk-item {\n",
       "  /* draw centered vertical line to link estimators */\n",
       "  background-image: linear-gradient(var(--sklearn-color-text-on-default-background), var(--sklearn-color-text-on-default-background));\n",
       "  background-size: 2px 100%;\n",
       "  background-repeat: no-repeat;\n",
       "  background-position: center center;\n",
       "}\n",
       "\n",
       "/* Parallel-specific style estimator block */\n",
       "\n",
       "#sk-container-id-4 div.sk-parallel-item::after {\n",
       "  content: \"\";\n",
       "  width: 100%;\n",
       "  border-bottom: 2px solid var(--sklearn-color-text-on-default-background);\n",
       "  flex-grow: 1;\n",
       "}\n",
       "\n",
       "#sk-container-id-4 div.sk-parallel {\n",
       "  display: flex;\n",
       "  align-items: stretch;\n",
       "  justify-content: center;\n",
       "  background-color: var(--sklearn-color-background);\n",
       "  position: relative;\n",
       "}\n",
       "\n",
       "#sk-container-id-4 div.sk-parallel-item {\n",
       "  display: flex;\n",
       "  flex-direction: column;\n",
       "}\n",
       "\n",
       "#sk-container-id-4 div.sk-parallel-item:first-child::after {\n",
       "  align-self: flex-end;\n",
       "  width: 50%;\n",
       "}\n",
       "\n",
       "#sk-container-id-4 div.sk-parallel-item:last-child::after {\n",
       "  align-self: flex-start;\n",
       "  width: 50%;\n",
       "}\n",
       "\n",
       "#sk-container-id-4 div.sk-parallel-item:only-child::after {\n",
       "  width: 0;\n",
       "}\n",
       "\n",
       "/* Serial-specific style estimator block */\n",
       "\n",
       "#sk-container-id-4 div.sk-serial {\n",
       "  display: flex;\n",
       "  flex-direction: column;\n",
       "  align-items: center;\n",
       "  background-color: var(--sklearn-color-background);\n",
       "  padding-right: 1em;\n",
       "  padding-left: 1em;\n",
       "}\n",
       "\n",
       "\n",
       "/* Toggleable style: style used for estimator/Pipeline/ColumnTransformer box that is\n",
       "clickable and can be expanded/collapsed.\n",
       "- Pipeline and ColumnTransformer use this feature and define the default style\n",
       "- Estimators will overwrite some part of the style using the `sk-estimator` class\n",
       "*/\n",
       "\n",
       "/* Pipeline and ColumnTransformer style (default) */\n",
       "\n",
       "#sk-container-id-4 div.sk-toggleable {\n",
       "  /* Default theme specific background. It is overwritten whether we have a\n",
       "  specific estimator or a Pipeline/ColumnTransformer */\n",
       "  background-color: var(--sklearn-color-background);\n",
       "}\n",
       "\n",
       "/* Toggleable label */\n",
       "#sk-container-id-4 label.sk-toggleable__label {\n",
       "  cursor: pointer;\n",
       "  display: flex;\n",
       "  width: 100%;\n",
       "  margin-bottom: 0;\n",
       "  padding: 0.5em;\n",
       "  box-sizing: border-box;\n",
       "  text-align: center;\n",
       "  align-items: start;\n",
       "  justify-content: space-between;\n",
       "  gap: 0.5em;\n",
       "}\n",
       "\n",
       "#sk-container-id-4 label.sk-toggleable__label .caption {\n",
       "  font-size: 0.6rem;\n",
       "  font-weight: lighter;\n",
       "  color: var(--sklearn-color-text-muted);\n",
       "}\n",
       "\n",
       "#sk-container-id-4 label.sk-toggleable__label-arrow:before {\n",
       "  /* Arrow on the left of the label */\n",
       "  content: \"▸\";\n",
       "  float: left;\n",
       "  margin-right: 0.25em;\n",
       "  color: var(--sklearn-color-icon);\n",
       "}\n",
       "\n",
       "#sk-container-id-4 label.sk-toggleable__label-arrow:hover:before {\n",
       "  color: var(--sklearn-color-text);\n",
       "}\n",
       "\n",
       "/* Toggleable content - dropdown */\n",
       "\n",
       "#sk-container-id-4 div.sk-toggleable__content {\n",
       "  max-height: 0;\n",
       "  max-width: 0;\n",
       "  overflow: hidden;\n",
       "  text-align: left;\n",
       "  /* unfitted */\n",
       "  background-color: var(--sklearn-color-unfitted-level-0);\n",
       "}\n",
       "\n",
       "#sk-container-id-4 div.sk-toggleable__content.fitted {\n",
       "  /* fitted */\n",
       "  background-color: var(--sklearn-color-fitted-level-0);\n",
       "}\n",
       "\n",
       "#sk-container-id-4 div.sk-toggleable__content pre {\n",
       "  margin: 0.2em;\n",
       "  border-radius: 0.25em;\n",
       "  color: var(--sklearn-color-text);\n",
       "  /* unfitted */\n",
       "  background-color: var(--sklearn-color-unfitted-level-0);\n",
       "}\n",
       "\n",
       "#sk-container-id-4 div.sk-toggleable__content.fitted pre {\n",
       "  /* unfitted */\n",
       "  background-color: var(--sklearn-color-fitted-level-0);\n",
       "}\n",
       "\n",
       "#sk-container-id-4 input.sk-toggleable__control:checked~div.sk-toggleable__content {\n",
       "  /* Expand drop-down */\n",
       "  max-height: 200px;\n",
       "  max-width: 100%;\n",
       "  overflow: auto;\n",
       "}\n",
       "\n",
       "#sk-container-id-4 input.sk-toggleable__control:checked~label.sk-toggleable__label-arrow:before {\n",
       "  content: \"▾\";\n",
       "}\n",
       "\n",
       "/* Pipeline/ColumnTransformer-specific style */\n",
       "\n",
       "#sk-container-id-4 div.sk-label input.sk-toggleable__control:checked~label.sk-toggleable__label {\n",
       "  color: var(--sklearn-color-text);\n",
       "  background-color: var(--sklearn-color-unfitted-level-2);\n",
       "}\n",
       "\n",
       "#sk-container-id-4 div.sk-label.fitted input.sk-toggleable__control:checked~label.sk-toggleable__label {\n",
       "  background-color: var(--sklearn-color-fitted-level-2);\n",
       "}\n",
       "\n",
       "/* Estimator-specific style */\n",
       "\n",
       "/* Colorize estimator box */\n",
       "#sk-container-id-4 div.sk-estimator input.sk-toggleable__control:checked~label.sk-toggleable__label {\n",
       "  /* unfitted */\n",
       "  background-color: var(--sklearn-color-unfitted-level-2);\n",
       "}\n",
       "\n",
       "#sk-container-id-4 div.sk-estimator.fitted input.sk-toggleable__control:checked~label.sk-toggleable__label {\n",
       "  /* fitted */\n",
       "  background-color: var(--sklearn-color-fitted-level-2);\n",
       "}\n",
       "\n",
       "#sk-container-id-4 div.sk-label label.sk-toggleable__label,\n",
       "#sk-container-id-4 div.sk-label label {\n",
       "  /* The background is the default theme color */\n",
       "  color: var(--sklearn-color-text-on-default-background);\n",
       "}\n",
       "\n",
       "/* On hover, darken the color of the background */\n",
       "#sk-container-id-4 div.sk-label:hover label.sk-toggleable__label {\n",
       "  color: var(--sklearn-color-text);\n",
       "  background-color: var(--sklearn-color-unfitted-level-2);\n",
       "}\n",
       "\n",
       "/* Label box, darken color on hover, fitted */\n",
       "#sk-container-id-4 div.sk-label.fitted:hover label.sk-toggleable__label.fitted {\n",
       "  color: var(--sklearn-color-text);\n",
       "  background-color: var(--sklearn-color-fitted-level-2);\n",
       "}\n",
       "\n",
       "/* Estimator label */\n",
       "\n",
       "#sk-container-id-4 div.sk-label label {\n",
       "  font-family: monospace;\n",
       "  font-weight: bold;\n",
       "  display: inline-block;\n",
       "  line-height: 1.2em;\n",
       "}\n",
       "\n",
       "#sk-container-id-4 div.sk-label-container {\n",
       "  text-align: center;\n",
       "}\n",
       "\n",
       "/* Estimator-specific */\n",
       "#sk-container-id-4 div.sk-estimator {\n",
       "  font-family: monospace;\n",
       "  border: 1px dotted var(--sklearn-color-border-box);\n",
       "  border-radius: 0.25em;\n",
       "  box-sizing: border-box;\n",
       "  margin-bottom: 0.5em;\n",
       "  /* unfitted */\n",
       "  background-color: var(--sklearn-color-unfitted-level-0);\n",
       "}\n",
       "\n",
       "#sk-container-id-4 div.sk-estimator.fitted {\n",
       "  /* fitted */\n",
       "  background-color: var(--sklearn-color-fitted-level-0);\n",
       "}\n",
       "\n",
       "/* on hover */\n",
       "#sk-container-id-4 div.sk-estimator:hover {\n",
       "  /* unfitted */\n",
       "  background-color: var(--sklearn-color-unfitted-level-2);\n",
       "}\n",
       "\n",
       "#sk-container-id-4 div.sk-estimator.fitted:hover {\n",
       "  /* fitted */\n",
       "  background-color: var(--sklearn-color-fitted-level-2);\n",
       "}\n",
       "\n",
       "/* Specification for estimator info (e.g. \"i\" and \"?\") */\n",
       "\n",
       "/* Common style for \"i\" and \"?\" */\n",
       "\n",
       ".sk-estimator-doc-link,\n",
       "a:link.sk-estimator-doc-link,\n",
       "a:visited.sk-estimator-doc-link {\n",
       "  float: right;\n",
       "  font-size: smaller;\n",
       "  line-height: 1em;\n",
       "  font-family: monospace;\n",
       "  background-color: var(--sklearn-color-background);\n",
       "  border-radius: 1em;\n",
       "  height: 1em;\n",
       "  width: 1em;\n",
       "  text-decoration: none !important;\n",
       "  margin-left: 0.5em;\n",
       "  text-align: center;\n",
       "  /* unfitted */\n",
       "  border: var(--sklearn-color-unfitted-level-1) 1pt solid;\n",
       "  color: var(--sklearn-color-unfitted-level-1);\n",
       "}\n",
       "\n",
       ".sk-estimator-doc-link.fitted,\n",
       "a:link.sk-estimator-doc-link.fitted,\n",
       "a:visited.sk-estimator-doc-link.fitted {\n",
       "  /* fitted */\n",
       "  border: var(--sklearn-color-fitted-level-1) 1pt solid;\n",
       "  color: var(--sklearn-color-fitted-level-1);\n",
       "}\n",
       "\n",
       "/* On hover */\n",
       "div.sk-estimator:hover .sk-estimator-doc-link:hover,\n",
       ".sk-estimator-doc-link:hover,\n",
       "div.sk-label-container:hover .sk-estimator-doc-link:hover,\n",
       ".sk-estimator-doc-link:hover {\n",
       "  /* unfitted */\n",
       "  background-color: var(--sklearn-color-unfitted-level-3);\n",
       "  color: var(--sklearn-color-background);\n",
       "  text-decoration: none;\n",
       "}\n",
       "\n",
       "div.sk-estimator.fitted:hover .sk-estimator-doc-link.fitted:hover,\n",
       ".sk-estimator-doc-link.fitted:hover,\n",
       "div.sk-label-container:hover .sk-estimator-doc-link.fitted:hover,\n",
       ".sk-estimator-doc-link.fitted:hover {\n",
       "  /* fitted */\n",
       "  background-color: var(--sklearn-color-fitted-level-3);\n",
       "  color: var(--sklearn-color-background);\n",
       "  text-decoration: none;\n",
       "}\n",
       "\n",
       "/* Span, style for the box shown on hovering the info icon */\n",
       ".sk-estimator-doc-link span {\n",
       "  display: none;\n",
       "  z-index: 9999;\n",
       "  position: relative;\n",
       "  font-weight: normal;\n",
       "  right: .2ex;\n",
       "  padding: .5ex;\n",
       "  margin: .5ex;\n",
       "  width: min-content;\n",
       "  min-width: 20ex;\n",
       "  max-width: 50ex;\n",
       "  color: var(--sklearn-color-text);\n",
       "  box-shadow: 2pt 2pt 4pt #999;\n",
       "  /* unfitted */\n",
       "  background: var(--sklearn-color-unfitted-level-0);\n",
       "  border: .5pt solid var(--sklearn-color-unfitted-level-3);\n",
       "}\n",
       "\n",
       ".sk-estimator-doc-link.fitted span {\n",
       "  /* fitted */\n",
       "  background: var(--sklearn-color-fitted-level-0);\n",
       "  border: var(--sklearn-color-fitted-level-3);\n",
       "}\n",
       "\n",
       ".sk-estimator-doc-link:hover span {\n",
       "  display: block;\n",
       "}\n",
       "\n",
       "/* \"?\"-specific style due to the `<a>` HTML tag */\n",
       "\n",
       "#sk-container-id-4 a.estimator_doc_link {\n",
       "  float: right;\n",
       "  font-size: 1rem;\n",
       "  line-height: 1em;\n",
       "  font-family: monospace;\n",
       "  background-color: var(--sklearn-color-background);\n",
       "  border-radius: 1rem;\n",
       "  height: 1rem;\n",
       "  width: 1rem;\n",
       "  text-decoration: none;\n",
       "  /* unfitted */\n",
       "  color: var(--sklearn-color-unfitted-level-1);\n",
       "  border: var(--sklearn-color-unfitted-level-1) 1pt solid;\n",
       "}\n",
       "\n",
       "#sk-container-id-4 a.estimator_doc_link.fitted {\n",
       "  /* fitted */\n",
       "  border: var(--sklearn-color-fitted-level-1) 1pt solid;\n",
       "  color: var(--sklearn-color-fitted-level-1);\n",
       "}\n",
       "\n",
       "/* On hover */\n",
       "#sk-container-id-4 a.estimator_doc_link:hover {\n",
       "  /* unfitted */\n",
       "  background-color: var(--sklearn-color-unfitted-level-3);\n",
       "  color: var(--sklearn-color-background);\n",
       "  text-decoration: none;\n",
       "}\n",
       "\n",
       "#sk-container-id-4 a.estimator_doc_link.fitted:hover {\n",
       "  /* fitted */\n",
       "  background-color: var(--sklearn-color-fitted-level-3);\n",
       "}\n",
       "</style><div id=\"sk-container-id-4\" class=\"sk-top-container\"><div class=\"sk-text-repr-fallback\"><pre>LinearRegression()</pre><b>In a Jupyter environment, please rerun this cell to show the HTML representation or trust the notebook. <br />On GitHub, the HTML representation is unable to render, please try loading this page with nbviewer.org.</b></div><div class=\"sk-container\" hidden><div class=\"sk-item\"><div class=\"sk-estimator fitted sk-toggleable\"><input class=\"sk-toggleable__control sk-hidden--visually\" id=\"sk-estimator-id-4\" type=\"checkbox\" checked><label for=\"sk-estimator-id-4\" class=\"sk-toggleable__label fitted sk-toggleable__label-arrow\"><div><div>LinearRegression</div></div><div><a class=\"sk-estimator-doc-link fitted\" rel=\"noreferrer\" target=\"_blank\" href=\"https://scikit-learn.org/1.6/modules/generated/sklearn.linear_model.LinearRegression.html\">?<span>Documentation for LinearRegression</span></a><span class=\"sk-estimator-doc-link fitted\">i<span>Fitted</span></span></div></label><div class=\"sk-toggleable__content fitted\"><pre>LinearRegression()</pre></div> </div></div></div></div>"
      ],
      "text/plain": [
       "LinearRegression()"
      ]
     },
     "execution_count": 95,
     "metadata": {},
     "output_type": "execute_result"
    }
   ],
   "source": [
    "lr.fit(X_train,y_train)"
   ]
  },
  {
   "cell_type": "code",
   "execution_count": 96,
   "id": "a79005b5-0072-49ea-a1da-abc6cd2c5367",
   "metadata": {},
   "outputs": [],
   "source": [
    "y_pred = lr.predict(X_test)"
   ]
  },
  {
   "cell_type": "code",
   "execution_count": 97,
   "id": "672f1d17-593d-4a39-8408-8b422358155f",
   "metadata": {},
   "outputs": [
    {
     "data": {
      "text/plain": [
       "0.937969064240951"
      ]
     },
     "execution_count": 97,
     "metadata": {},
     "output_type": "execute_result"
    }
   ],
   "source": [
    "r2_score(y_test,y_pred)"
   ]
  },
  {
   "cell_type": "code",
   "execution_count": 98,
   "id": "79400047-d0b8-48ca-8c42-d3966ca1b97e",
   "metadata": {},
   "outputs": [
    {
     "data": {
      "text/plain": [
       "14.676102333189805"
      ]
     },
     "execution_count": 98,
     "metadata": {},
     "output_type": "execute_result"
    }
   ],
   "source": [
    "mean_absolute_error(y_test,y_pred)"
   ]
  },
  {
   "cell_type": "code",
   "execution_count": 99,
   "id": "88b39723-73ba-43ff-a7d5-20708c1e4a9d",
   "metadata": {},
   "outputs": [
    {
     "data": {
      "text/plain": [
       "383.38756246819884"
      ]
     },
     "execution_count": 99,
     "metadata": {},
     "output_type": "execute_result"
    }
   ],
   "source": [
    "mean_squared_error(y_test,y_pred)"
   ]
  },
  {
   "cell_type": "code",
   "execution_count": 100,
   "id": "89aa5129-f928-4a54-9454-c321d3f9c6f9",
   "metadata": {},
   "outputs": [
    {
     "data": {
      "text/plain": [
       "(array([76.47726773,  2.99885218]), -2.0694255603927374)"
      ]
     },
     "execution_count": 100,
     "metadata": {},
     "output_type": "execute_result"
    }
   ],
   "source": [
    "lr.coef_,lr.intercept_"
   ]
  },
  {
   "cell_type": "markdown",
   "id": "b97cb9d6-fe9d-41a4-a313-d1aeab099030",
   "metadata": {},
   "source": [
    "- Building Our Own **Class**"
   ]
  },
  {
   "cell_type": "code",
   "execution_count": 105,
   "id": "410d8d4c-9d71-4d66-b957-76082b62e321",
   "metadata": {},
   "outputs": [],
   "source": [
    "class MultipleLinearReg:\n",
    "    def __init__(self):\n",
    "        self.coef_ = 0\n",
    "        self.intercept_ = 0\n",
    "\n",
    "    def fit(self,X_train,y_train):\n",
    "        X_train = np.insert(X_train,0,1,axis=1)\n",
    "\n",
    "        # Calculating Coeffecients\n",
    "        betas = np.linalg.inv(np.dot(X_train.T,X_train)).dot(X_train.T).dot(y_train)\n",
    "        self.intercept_ = betas[0]\n",
    "        self.coef_ = betas[1:]\n",
    "        return self.coef_,self.intercept_\n",
    "\n",
    "    def predict(self,X_test):\n",
    "        y_pred = np.dot(X_test,self.coef_) + self.intercept_\n",
    "        return y_pred"
   ]
  },
  {
   "cell_type": "code",
   "execution_count": 106,
   "id": "9a273e53-4a0e-45ac-ada5-09b000fbf1c4",
   "metadata": {},
   "outputs": [],
   "source": [
    "mult = MultipleLinearReg()"
   ]
  },
  {
   "cell_type": "code",
   "execution_count": 107,
   "id": "c929feb0-7844-4bf4-8e1a-47b754c8e92a",
   "metadata": {},
   "outputs": [
    {
     "data": {
      "text/plain": [
       "(array([76.47726773,  2.99885218]), -2.0694255603927405)"
      ]
     },
     "execution_count": 107,
     "metadata": {},
     "output_type": "execute_result"
    }
   ],
   "source": [
    "mult.fit(X_train,y_train)"
   ]
  },
  {
   "cell_type": "code",
   "execution_count": 108,
   "id": "cc739a3c-c238-4cc2-9ba4-33255f4df018",
   "metadata": {},
   "outputs": [],
   "source": [
    "y_pred = mult.predict(X_test)"
   ]
  },
  {
   "cell_type": "code",
   "execution_count": 109,
   "id": "e027e234-57e5-48a0-b884-b9c6da9b4066",
   "metadata": {},
   "outputs": [
    {
     "data": {
      "text/plain": [
       "0.9379690642409508"
      ]
     },
     "execution_count": 109,
     "metadata": {},
     "output_type": "execute_result"
    }
   ],
   "source": [
    "r2_score(y_test,y_pred)"
   ]
  },
  {
   "cell_type": "code",
   "execution_count": 110,
   "id": "74c606fa-a116-4b08-a6c0-9269cdc4b5ee",
   "metadata": {},
   "outputs": [
    {
     "data": {
      "text/plain": [
       "14.676102333189805"
      ]
     },
     "execution_count": 110,
     "metadata": {},
     "output_type": "execute_result"
    }
   ],
   "source": [
    "mean_absolute_error(y_test,y_pred)"
   ]
  },
  {
   "cell_type": "code",
   "execution_count": 111,
   "id": "60fece2c-16da-42b6-b344-89c7d65bb945",
   "metadata": {},
   "outputs": [
    {
     "data": {
      "text/plain": [
       "383.38756246819895"
      ]
     },
     "execution_count": 111,
     "metadata": {},
     "output_type": "execute_result"
    }
   ],
   "source": [
    "mean_squared_error(y_test,y_pred)"
   ]
  },
  {
   "cell_type": "markdown",
   "id": "16c791b4-3444-4c63-a7bc-d3fd05513ed6",
   "metadata": {},
   "source": [
    "## Model Results: [Multiple Linear Regression]  \n",
    "\n",
    "### Coefficients  \n",
    "\n",
    "The learned coefficients for the [Multiple Linear Regression] are as follows:  \n",
    "\n",
    "- **Intercept (Bias Term):** `{-2.0694255603927405}`  \n",
    "- **Feature Coefficients:**  `{[76.47726773,  2.99885218]}`\n",
    "\n",
    "### Model Performance  \n",
    "\n",
    "- **Mean Squared Error (MSE):** `{383.38756246819895}`\n",
    "- **Mean Absolute Error (MSE):** `{14.676102333189805}`  \n",
    "- **R² Score:** `{0.9379690642409508}`  \n",
    "\n",
    "These values indicate how the model has learned the underlying patterns in the data. Further comparisons with built-in implementations ensure correctness.\n"
   ]
  },
  {
   "cell_type": "code",
   "execution_count": null,
   "id": "2716e5d5-42d6-4808-91d8-8a0bc9d9cec3",
   "metadata": {},
   "outputs": [],
   "source": []
  },
  {
   "cell_type": "markdown",
   "id": "bc0d7b1f-c35c-480a-be0d-47f663086f74",
   "metadata": {},
   "source": [
    "# Implementing Gradient Descent for Linear Regression  \n",
    "\n",
    "## Overview  \n",
    "Now that we have implemented Linear Regression from scratch using the **normal equation**, we will extend our approach by optimizing the model parameters using **Gradient Descent**. This will allow us to handle larger datasets efficiently, where direct computation of the normal equation is infeasible due to **Inverse factor** which makes complexity higher.  \n",
    "\n",
    "## Types of Gradient Descent  \n",
    "We will implement and analyze the following **three variations** of Gradient Descent:  \n",
    "\n",
    "1. **Batch Gradient Descent (BGD)**  \n",
    "   - Updates parameters using the gradient computed over the **entire dataset** in each iteration.  \n",
    "   - Converges smoothly but can be computationally expensive for large datasets.  \n",
    "\n",
    "2. **Stochastic Gradient Descent (SGD)**  \n",
    "   - Updates parameters using **one sample at a time**.  \n",
    "   - Faster but introduces **high variance** in updates, leading to a noisy convergence.  \n",
    "\n",
    "3. **Mini-Batch Gradient Descent (MBGD)**  \n",
    "   - A compromise between BGD and SGD, updating parameters using **small batches** of data.  \n",
    "   - Balances **efficiency** and **stability** in optimization.  \n",
    "\n",
    "## Implementation Plan  \n",
    "- Define the **cost function** and compute gradients for parameter updates.  \n",
    "- Implement **each type of Gradient Descent** and tune learning rates for convergence.  \n",
    "- Compare results with the **closed-form solution** (Normal Equation) to ensure correctness.  \n",
    "- Evaluate performance based on **convergence speed** and **final parameter values**.  \n",
    "\n",
    "Next, we will proceed with the implementation.  \n"
   ]
  },
  {
   "cell_type": "markdown",
   "id": "df966c4e-b717-4eb8-b224-6255d32fbba4",
   "metadata": {},
   "source": [
    "- Using in-built **LinearRegression** Class over diabetes dataset "
   ]
  },
  {
   "cell_type": "code",
   "execution_count": 112,
   "id": "ae74bc57-b453-4214-8947-a6db4e457818",
   "metadata": {},
   "outputs": [],
   "source": [
    "from sklearn.datasets import load_diabetes"
   ]
  },
  {
   "cell_type": "code",
   "execution_count": 113,
   "id": "80c9df59-3718-411a-877e-887018e8d3c1",
   "metadata": {},
   "outputs": [],
   "source": [
    "X,y = load_diabetes(return_X_y=True)"
   ]
  },
  {
   "cell_type": "code",
   "execution_count": 114,
   "id": "9ee57915-69cc-4c78-ac97-3c719628408d",
   "metadata": {},
   "outputs": [
    {
     "data": {
      "text/plain": [
       "((442, 10), (442,))"
      ]
     },
     "execution_count": 114,
     "metadata": {},
     "output_type": "execute_result"
    }
   ],
   "source": [
    "X.shape,y.shape"
   ]
  },
  {
   "cell_type": "code",
   "execution_count": 116,
   "id": "801e4fd8-9278-4636-878e-243ad9d06df8",
   "metadata": {},
   "outputs": [],
   "source": [
    "X_train,X_test,y_train,y_test = train_test_split(X,y,test_size=0.2,random_state=2)"
   ]
  },
  {
   "cell_type": "code",
   "execution_count": 118,
   "id": "e38c7242-d8e2-4709-bc6d-7493a4847e38",
   "metadata": {},
   "outputs": [],
   "source": [
    "lr = LinearRegression()"
   ]
  },
  {
   "cell_type": "code",
   "execution_count": 119,
   "id": "d32748b2-2e40-4038-9db2-b32f75382c9d",
   "metadata": {},
   "outputs": [
    {
     "data": {
      "text/html": [
       "<style>#sk-container-id-5 {\n",
       "  /* Definition of color scheme common for light and dark mode */\n",
       "  --sklearn-color-text: #000;\n",
       "  --sklearn-color-text-muted: #666;\n",
       "  --sklearn-color-line: gray;\n",
       "  /* Definition of color scheme for unfitted estimators */\n",
       "  --sklearn-color-unfitted-level-0: #fff5e6;\n",
       "  --sklearn-color-unfitted-level-1: #f6e4d2;\n",
       "  --sklearn-color-unfitted-level-2: #ffe0b3;\n",
       "  --sklearn-color-unfitted-level-3: chocolate;\n",
       "  /* Definition of color scheme for fitted estimators */\n",
       "  --sklearn-color-fitted-level-0: #f0f8ff;\n",
       "  --sklearn-color-fitted-level-1: #d4ebff;\n",
       "  --sklearn-color-fitted-level-2: #b3dbfd;\n",
       "  --sklearn-color-fitted-level-3: cornflowerblue;\n",
       "\n",
       "  /* Specific color for light theme */\n",
       "  --sklearn-color-text-on-default-background: var(--sg-text-color, var(--theme-code-foreground, var(--jp-content-font-color1, black)));\n",
       "  --sklearn-color-background: var(--sg-background-color, var(--theme-background, var(--jp-layout-color0, white)));\n",
       "  --sklearn-color-border-box: var(--sg-text-color, var(--theme-code-foreground, var(--jp-content-font-color1, black)));\n",
       "  --sklearn-color-icon: #696969;\n",
       "\n",
       "  @media (prefers-color-scheme: dark) {\n",
       "    /* Redefinition of color scheme for dark theme */\n",
       "    --sklearn-color-text-on-default-background: var(--sg-text-color, var(--theme-code-foreground, var(--jp-content-font-color1, white)));\n",
       "    --sklearn-color-background: var(--sg-background-color, var(--theme-background, var(--jp-layout-color0, #111)));\n",
       "    --sklearn-color-border-box: var(--sg-text-color, var(--theme-code-foreground, var(--jp-content-font-color1, white)));\n",
       "    --sklearn-color-icon: #878787;\n",
       "  }\n",
       "}\n",
       "\n",
       "#sk-container-id-5 {\n",
       "  color: var(--sklearn-color-text);\n",
       "}\n",
       "\n",
       "#sk-container-id-5 pre {\n",
       "  padding: 0;\n",
       "}\n",
       "\n",
       "#sk-container-id-5 input.sk-hidden--visually {\n",
       "  border: 0;\n",
       "  clip: rect(1px 1px 1px 1px);\n",
       "  clip: rect(1px, 1px, 1px, 1px);\n",
       "  height: 1px;\n",
       "  margin: -1px;\n",
       "  overflow: hidden;\n",
       "  padding: 0;\n",
       "  position: absolute;\n",
       "  width: 1px;\n",
       "}\n",
       "\n",
       "#sk-container-id-5 div.sk-dashed-wrapped {\n",
       "  border: 1px dashed var(--sklearn-color-line);\n",
       "  margin: 0 0.4em 0.5em 0.4em;\n",
       "  box-sizing: border-box;\n",
       "  padding-bottom: 0.4em;\n",
       "  background-color: var(--sklearn-color-background);\n",
       "}\n",
       "\n",
       "#sk-container-id-5 div.sk-container {\n",
       "  /* jupyter's `normalize.less` sets `[hidden] { display: none; }`\n",
       "     but bootstrap.min.css set `[hidden] { display: none !important; }`\n",
       "     so we also need the `!important` here to be able to override the\n",
       "     default hidden behavior on the sphinx rendered scikit-learn.org.\n",
       "     See: https://github.com/scikit-learn/scikit-learn/issues/21755 */\n",
       "  display: inline-block !important;\n",
       "  position: relative;\n",
       "}\n",
       "\n",
       "#sk-container-id-5 div.sk-text-repr-fallback {\n",
       "  display: none;\n",
       "}\n",
       "\n",
       "div.sk-parallel-item,\n",
       "div.sk-serial,\n",
       "div.sk-item {\n",
       "  /* draw centered vertical line to link estimators */\n",
       "  background-image: linear-gradient(var(--sklearn-color-text-on-default-background), var(--sklearn-color-text-on-default-background));\n",
       "  background-size: 2px 100%;\n",
       "  background-repeat: no-repeat;\n",
       "  background-position: center center;\n",
       "}\n",
       "\n",
       "/* Parallel-specific style estimator block */\n",
       "\n",
       "#sk-container-id-5 div.sk-parallel-item::after {\n",
       "  content: \"\";\n",
       "  width: 100%;\n",
       "  border-bottom: 2px solid var(--sklearn-color-text-on-default-background);\n",
       "  flex-grow: 1;\n",
       "}\n",
       "\n",
       "#sk-container-id-5 div.sk-parallel {\n",
       "  display: flex;\n",
       "  align-items: stretch;\n",
       "  justify-content: center;\n",
       "  background-color: var(--sklearn-color-background);\n",
       "  position: relative;\n",
       "}\n",
       "\n",
       "#sk-container-id-5 div.sk-parallel-item {\n",
       "  display: flex;\n",
       "  flex-direction: column;\n",
       "}\n",
       "\n",
       "#sk-container-id-5 div.sk-parallel-item:first-child::after {\n",
       "  align-self: flex-end;\n",
       "  width: 50%;\n",
       "}\n",
       "\n",
       "#sk-container-id-5 div.sk-parallel-item:last-child::after {\n",
       "  align-self: flex-start;\n",
       "  width: 50%;\n",
       "}\n",
       "\n",
       "#sk-container-id-5 div.sk-parallel-item:only-child::after {\n",
       "  width: 0;\n",
       "}\n",
       "\n",
       "/* Serial-specific style estimator block */\n",
       "\n",
       "#sk-container-id-5 div.sk-serial {\n",
       "  display: flex;\n",
       "  flex-direction: column;\n",
       "  align-items: center;\n",
       "  background-color: var(--sklearn-color-background);\n",
       "  padding-right: 1em;\n",
       "  padding-left: 1em;\n",
       "}\n",
       "\n",
       "\n",
       "/* Toggleable style: style used for estimator/Pipeline/ColumnTransformer box that is\n",
       "clickable and can be expanded/collapsed.\n",
       "- Pipeline and ColumnTransformer use this feature and define the default style\n",
       "- Estimators will overwrite some part of the style using the `sk-estimator` class\n",
       "*/\n",
       "\n",
       "/* Pipeline and ColumnTransformer style (default) */\n",
       "\n",
       "#sk-container-id-5 div.sk-toggleable {\n",
       "  /* Default theme specific background. It is overwritten whether we have a\n",
       "  specific estimator or a Pipeline/ColumnTransformer */\n",
       "  background-color: var(--sklearn-color-background);\n",
       "}\n",
       "\n",
       "/* Toggleable label */\n",
       "#sk-container-id-5 label.sk-toggleable__label {\n",
       "  cursor: pointer;\n",
       "  display: flex;\n",
       "  width: 100%;\n",
       "  margin-bottom: 0;\n",
       "  padding: 0.5em;\n",
       "  box-sizing: border-box;\n",
       "  text-align: center;\n",
       "  align-items: start;\n",
       "  justify-content: space-between;\n",
       "  gap: 0.5em;\n",
       "}\n",
       "\n",
       "#sk-container-id-5 label.sk-toggleable__label .caption {\n",
       "  font-size: 0.6rem;\n",
       "  font-weight: lighter;\n",
       "  color: var(--sklearn-color-text-muted);\n",
       "}\n",
       "\n",
       "#sk-container-id-5 label.sk-toggleable__label-arrow:before {\n",
       "  /* Arrow on the left of the label */\n",
       "  content: \"▸\";\n",
       "  float: left;\n",
       "  margin-right: 0.25em;\n",
       "  color: var(--sklearn-color-icon);\n",
       "}\n",
       "\n",
       "#sk-container-id-5 label.sk-toggleable__label-arrow:hover:before {\n",
       "  color: var(--sklearn-color-text);\n",
       "}\n",
       "\n",
       "/* Toggleable content - dropdown */\n",
       "\n",
       "#sk-container-id-5 div.sk-toggleable__content {\n",
       "  max-height: 0;\n",
       "  max-width: 0;\n",
       "  overflow: hidden;\n",
       "  text-align: left;\n",
       "  /* unfitted */\n",
       "  background-color: var(--sklearn-color-unfitted-level-0);\n",
       "}\n",
       "\n",
       "#sk-container-id-5 div.sk-toggleable__content.fitted {\n",
       "  /* fitted */\n",
       "  background-color: var(--sklearn-color-fitted-level-0);\n",
       "}\n",
       "\n",
       "#sk-container-id-5 div.sk-toggleable__content pre {\n",
       "  margin: 0.2em;\n",
       "  border-radius: 0.25em;\n",
       "  color: var(--sklearn-color-text);\n",
       "  /* unfitted */\n",
       "  background-color: var(--sklearn-color-unfitted-level-0);\n",
       "}\n",
       "\n",
       "#sk-container-id-5 div.sk-toggleable__content.fitted pre {\n",
       "  /* unfitted */\n",
       "  background-color: var(--sklearn-color-fitted-level-0);\n",
       "}\n",
       "\n",
       "#sk-container-id-5 input.sk-toggleable__control:checked~div.sk-toggleable__content {\n",
       "  /* Expand drop-down */\n",
       "  max-height: 200px;\n",
       "  max-width: 100%;\n",
       "  overflow: auto;\n",
       "}\n",
       "\n",
       "#sk-container-id-5 input.sk-toggleable__control:checked~label.sk-toggleable__label-arrow:before {\n",
       "  content: \"▾\";\n",
       "}\n",
       "\n",
       "/* Pipeline/ColumnTransformer-specific style */\n",
       "\n",
       "#sk-container-id-5 div.sk-label input.sk-toggleable__control:checked~label.sk-toggleable__label {\n",
       "  color: var(--sklearn-color-text);\n",
       "  background-color: var(--sklearn-color-unfitted-level-2);\n",
       "}\n",
       "\n",
       "#sk-container-id-5 div.sk-label.fitted input.sk-toggleable__control:checked~label.sk-toggleable__label {\n",
       "  background-color: var(--sklearn-color-fitted-level-2);\n",
       "}\n",
       "\n",
       "/* Estimator-specific style */\n",
       "\n",
       "/* Colorize estimator box */\n",
       "#sk-container-id-5 div.sk-estimator input.sk-toggleable__control:checked~label.sk-toggleable__label {\n",
       "  /* unfitted */\n",
       "  background-color: var(--sklearn-color-unfitted-level-2);\n",
       "}\n",
       "\n",
       "#sk-container-id-5 div.sk-estimator.fitted input.sk-toggleable__control:checked~label.sk-toggleable__label {\n",
       "  /* fitted */\n",
       "  background-color: var(--sklearn-color-fitted-level-2);\n",
       "}\n",
       "\n",
       "#sk-container-id-5 div.sk-label label.sk-toggleable__label,\n",
       "#sk-container-id-5 div.sk-label label {\n",
       "  /* The background is the default theme color */\n",
       "  color: var(--sklearn-color-text-on-default-background);\n",
       "}\n",
       "\n",
       "/* On hover, darken the color of the background */\n",
       "#sk-container-id-5 div.sk-label:hover label.sk-toggleable__label {\n",
       "  color: var(--sklearn-color-text);\n",
       "  background-color: var(--sklearn-color-unfitted-level-2);\n",
       "}\n",
       "\n",
       "/* Label box, darken color on hover, fitted */\n",
       "#sk-container-id-5 div.sk-label.fitted:hover label.sk-toggleable__label.fitted {\n",
       "  color: var(--sklearn-color-text);\n",
       "  background-color: var(--sklearn-color-fitted-level-2);\n",
       "}\n",
       "\n",
       "/* Estimator label */\n",
       "\n",
       "#sk-container-id-5 div.sk-label label {\n",
       "  font-family: monospace;\n",
       "  font-weight: bold;\n",
       "  display: inline-block;\n",
       "  line-height: 1.2em;\n",
       "}\n",
       "\n",
       "#sk-container-id-5 div.sk-label-container {\n",
       "  text-align: center;\n",
       "}\n",
       "\n",
       "/* Estimator-specific */\n",
       "#sk-container-id-5 div.sk-estimator {\n",
       "  font-family: monospace;\n",
       "  border: 1px dotted var(--sklearn-color-border-box);\n",
       "  border-radius: 0.25em;\n",
       "  box-sizing: border-box;\n",
       "  margin-bottom: 0.5em;\n",
       "  /* unfitted */\n",
       "  background-color: var(--sklearn-color-unfitted-level-0);\n",
       "}\n",
       "\n",
       "#sk-container-id-5 div.sk-estimator.fitted {\n",
       "  /* fitted */\n",
       "  background-color: var(--sklearn-color-fitted-level-0);\n",
       "}\n",
       "\n",
       "/* on hover */\n",
       "#sk-container-id-5 div.sk-estimator:hover {\n",
       "  /* unfitted */\n",
       "  background-color: var(--sklearn-color-unfitted-level-2);\n",
       "}\n",
       "\n",
       "#sk-container-id-5 div.sk-estimator.fitted:hover {\n",
       "  /* fitted */\n",
       "  background-color: var(--sklearn-color-fitted-level-2);\n",
       "}\n",
       "\n",
       "/* Specification for estimator info (e.g. \"i\" and \"?\") */\n",
       "\n",
       "/* Common style for \"i\" and \"?\" */\n",
       "\n",
       ".sk-estimator-doc-link,\n",
       "a:link.sk-estimator-doc-link,\n",
       "a:visited.sk-estimator-doc-link {\n",
       "  float: right;\n",
       "  font-size: smaller;\n",
       "  line-height: 1em;\n",
       "  font-family: monospace;\n",
       "  background-color: var(--sklearn-color-background);\n",
       "  border-radius: 1em;\n",
       "  height: 1em;\n",
       "  width: 1em;\n",
       "  text-decoration: none !important;\n",
       "  margin-left: 0.5em;\n",
       "  text-align: center;\n",
       "  /* unfitted */\n",
       "  border: var(--sklearn-color-unfitted-level-1) 1pt solid;\n",
       "  color: var(--sklearn-color-unfitted-level-1);\n",
       "}\n",
       "\n",
       ".sk-estimator-doc-link.fitted,\n",
       "a:link.sk-estimator-doc-link.fitted,\n",
       "a:visited.sk-estimator-doc-link.fitted {\n",
       "  /* fitted */\n",
       "  border: var(--sklearn-color-fitted-level-1) 1pt solid;\n",
       "  color: var(--sklearn-color-fitted-level-1);\n",
       "}\n",
       "\n",
       "/* On hover */\n",
       "div.sk-estimator:hover .sk-estimator-doc-link:hover,\n",
       ".sk-estimator-doc-link:hover,\n",
       "div.sk-label-container:hover .sk-estimator-doc-link:hover,\n",
       ".sk-estimator-doc-link:hover {\n",
       "  /* unfitted */\n",
       "  background-color: var(--sklearn-color-unfitted-level-3);\n",
       "  color: var(--sklearn-color-background);\n",
       "  text-decoration: none;\n",
       "}\n",
       "\n",
       "div.sk-estimator.fitted:hover .sk-estimator-doc-link.fitted:hover,\n",
       ".sk-estimator-doc-link.fitted:hover,\n",
       "div.sk-label-container:hover .sk-estimator-doc-link.fitted:hover,\n",
       ".sk-estimator-doc-link.fitted:hover {\n",
       "  /* fitted */\n",
       "  background-color: var(--sklearn-color-fitted-level-3);\n",
       "  color: var(--sklearn-color-background);\n",
       "  text-decoration: none;\n",
       "}\n",
       "\n",
       "/* Span, style for the box shown on hovering the info icon */\n",
       ".sk-estimator-doc-link span {\n",
       "  display: none;\n",
       "  z-index: 9999;\n",
       "  position: relative;\n",
       "  font-weight: normal;\n",
       "  right: .2ex;\n",
       "  padding: .5ex;\n",
       "  margin: .5ex;\n",
       "  width: min-content;\n",
       "  min-width: 20ex;\n",
       "  max-width: 50ex;\n",
       "  color: var(--sklearn-color-text);\n",
       "  box-shadow: 2pt 2pt 4pt #999;\n",
       "  /* unfitted */\n",
       "  background: var(--sklearn-color-unfitted-level-0);\n",
       "  border: .5pt solid var(--sklearn-color-unfitted-level-3);\n",
       "}\n",
       "\n",
       ".sk-estimator-doc-link.fitted span {\n",
       "  /* fitted */\n",
       "  background: var(--sklearn-color-fitted-level-0);\n",
       "  border: var(--sklearn-color-fitted-level-3);\n",
       "}\n",
       "\n",
       ".sk-estimator-doc-link:hover span {\n",
       "  display: block;\n",
       "}\n",
       "\n",
       "/* \"?\"-specific style due to the `<a>` HTML tag */\n",
       "\n",
       "#sk-container-id-5 a.estimator_doc_link {\n",
       "  float: right;\n",
       "  font-size: 1rem;\n",
       "  line-height: 1em;\n",
       "  font-family: monospace;\n",
       "  background-color: var(--sklearn-color-background);\n",
       "  border-radius: 1rem;\n",
       "  height: 1rem;\n",
       "  width: 1rem;\n",
       "  text-decoration: none;\n",
       "  /* unfitted */\n",
       "  color: var(--sklearn-color-unfitted-level-1);\n",
       "  border: var(--sklearn-color-unfitted-level-1) 1pt solid;\n",
       "}\n",
       "\n",
       "#sk-container-id-5 a.estimator_doc_link.fitted {\n",
       "  /* fitted */\n",
       "  border: var(--sklearn-color-fitted-level-1) 1pt solid;\n",
       "  color: var(--sklearn-color-fitted-level-1);\n",
       "}\n",
       "\n",
       "/* On hover */\n",
       "#sk-container-id-5 a.estimator_doc_link:hover {\n",
       "  /* unfitted */\n",
       "  background-color: var(--sklearn-color-unfitted-level-3);\n",
       "  color: var(--sklearn-color-background);\n",
       "  text-decoration: none;\n",
       "}\n",
       "\n",
       "#sk-container-id-5 a.estimator_doc_link.fitted:hover {\n",
       "  /* fitted */\n",
       "  background-color: var(--sklearn-color-fitted-level-3);\n",
       "}\n",
       "</style><div id=\"sk-container-id-5\" class=\"sk-top-container\"><div class=\"sk-text-repr-fallback\"><pre>LinearRegression()</pre><b>In a Jupyter environment, please rerun this cell to show the HTML representation or trust the notebook. <br />On GitHub, the HTML representation is unable to render, please try loading this page with nbviewer.org.</b></div><div class=\"sk-container\" hidden><div class=\"sk-item\"><div class=\"sk-estimator fitted sk-toggleable\"><input class=\"sk-toggleable__control sk-hidden--visually\" id=\"sk-estimator-id-5\" type=\"checkbox\" checked><label for=\"sk-estimator-id-5\" class=\"sk-toggleable__label fitted sk-toggleable__label-arrow\"><div><div>LinearRegression</div></div><div><a class=\"sk-estimator-doc-link fitted\" rel=\"noreferrer\" target=\"_blank\" href=\"https://scikit-learn.org/1.6/modules/generated/sklearn.linear_model.LinearRegression.html\">?<span>Documentation for LinearRegression</span></a><span class=\"sk-estimator-doc-link fitted\">i<span>Fitted</span></span></div></label><div class=\"sk-toggleable__content fitted\"><pre>LinearRegression()</pre></div> </div></div></div></div>"
      ],
      "text/plain": [
       "LinearRegression()"
      ]
     },
     "execution_count": 119,
     "metadata": {},
     "output_type": "execute_result"
    }
   ],
   "source": [
    "lr.fit(X_train,y_train)"
   ]
  },
  {
   "cell_type": "code",
   "execution_count": 120,
   "id": "85bba5f3-e3ab-409b-bb81-92a834db7b94",
   "metadata": {},
   "outputs": [],
   "source": [
    "y_pred = lr.predict(X_test)"
   ]
  },
  {
   "cell_type": "code",
   "execution_count": 187,
   "id": "6bbe3ec3-63ef-444f-b0a2-434141f00e9d",
   "metadata": {},
   "outputs": [],
   "source": [
    "scoreLinearreg = r2_score(y_test,y_pred)"
   ]
  },
  {
   "cell_type": "code",
   "execution_count": 188,
   "id": "89013127-f79f-44f7-b3c4-e2e65ab3516a",
   "metadata": {},
   "outputs": [
    {
     "data": {
      "text/plain": [
       "0.4313584900412373"
      ]
     },
     "execution_count": 188,
     "metadata": {},
     "output_type": "execute_result"
    }
   ],
   "source": [
    "scoreLinearreg"
   ]
  },
  {
   "cell_type": "code",
   "execution_count": 123,
   "id": "dfc86c6b-37b7-4ea4-968e-a9e1ba78e69d",
   "metadata": {},
   "outputs": [
    {
     "data": {
      "text/plain": [
       "array([  -9.15865318, -205.45432163,  516.69374454,  340.61999905,\n",
       "       -895.5520019 ,  561.22067904,  153.89310954,  126.73139688,\n",
       "        861.12700152,   52.42112238])"
      ]
     },
     "execution_count": 123,
     "metadata": {},
     "output_type": "execute_result"
    }
   ],
   "source": [
    "lr.coef_"
   ]
  },
  {
   "cell_type": "code",
   "execution_count": 124,
   "id": "e23ae8d3-3af6-4b59-9fd8-4b8ddd2a336d",
   "metadata": {},
   "outputs": [
    {
     "data": {
      "text/plain": [
       "151.88331005254167"
      ]
     },
     "execution_count": 124,
     "metadata": {},
     "output_type": "execute_result"
    }
   ],
   "source": [
    "lr.intercept_"
   ]
  },
  {
   "cell_type": "markdown",
   "id": "e4b77e4f-642a-4eac-9a1c-f7453eedac73",
   "metadata": {},
   "source": [
    "## Caution\n",
    "- At this point,we are not concerned with *how good our model is*"
   ]
  },
  {
   "cell_type": "markdown",
   "id": "67390a12-1029-4db9-9f04-1b881a402d35",
   "metadata": {},
   "source": [
    "### Batch Gradient Descent (BGD)"
   ]
  },
  {
   "cell_type": "code",
   "execution_count": 143,
   "id": "c66bd0a4-91da-40b0-89c8-0d7547145956",
   "metadata": {},
   "outputs": [],
   "source": [
    "class BGD:\n",
    "    def __init__(self,epochs,learning_rate):\n",
    "        self.coef_ = None\n",
    "        self.intercept_ = None\n",
    "        self.epochs = epochs\n",
    "        self.lr = learning_rate\n",
    "\n",
    "    def fit(self,X_train,y_train):\n",
    "        # We are initializing coef_ with 1's and intercept_ with zero\n",
    "        # We can Use advanced Weight Initializing Techniques but for this implementation I will stcik with 0's and 1's \n",
    "        # As it is easy to understand\n",
    "        \n",
    "        # Step-1: Initialize Weights\n",
    "        self.coef_ = np.ones(X_train.shape[1]) # Current shape is (442,10) so our total Coef will be 10\n",
    "        self.intercept_ = 1\n",
    "\n",
    "        for i in range(self.epochs):\n",
    "            # Step-2: Update Intercepts and Coeffecients\n",
    "            # Update Rule ==> Weight(new) = Weight(old) - lr(Slope)\n",
    "            y_hat = self.intercept_ + np.dot(X_train,self.coef_)\n",
    "            intercept_deriv = -2 * np.mean(y_train - y_hat)\n",
    "            self.intercept_ = self.intercept_ - self.lr*(intercept_deriv)\n",
    "\n",
    "            coef_deriv = -2 * np.dot((y_train - y_hat),X_train) / X_train.shape[0]\n",
    "            self.coef_ = self.coef_ - self.lr*(coef_deriv)\n",
    "        return self.coef_,self.intercept_\n",
    "\n",
    "    def predict(self,X_test):\n",
    "        y_pred = np.dot(X_test,self.coef_) + self.intercept_\n",
    "        return y_pred"
   ]
  },
  {
   "cell_type": "markdown",
   "id": "120b9774-1926-46e8-8a79-2104263cd0ed",
   "metadata": {},
   "source": [
    "##### We can play with lr and epochs to get desired result"
   ]
  },
  {
   "cell_type": "code",
   "execution_count": 193,
   "id": "5ba0dee9-a3f7-483b-84be-bfd955ba1155",
   "metadata": {},
   "outputs": [],
   "source": [
    "batch = BGD(1000,0.4)"
   ]
  },
  {
   "cell_type": "code",
   "execution_count": 194,
   "id": "af82109b-ebdd-46d4-b732-5b8dd8f9a17d",
   "metadata": {},
   "outputs": [
    {
     "data": {
      "text/plain": [
       "(array([  23.72252031, -153.73153748,  468.33655823,  312.66333197,\n",
       "         -29.57084814, -101.98445315, -193.1354999 ,  109.88244277,\n",
       "         425.62315356,  108.08954858]),\n",
       " 152.04695698782282)"
      ]
     },
     "execution_count": 194,
     "metadata": {},
     "output_type": "execute_result"
    }
   ],
   "source": [
    "batch.fit(X_train,y_train)"
   ]
  },
  {
   "cell_type": "code",
   "execution_count": 195,
   "id": "3f6cb8b8-8a0f-4a72-80d9-954d22b7585b",
   "metadata": {},
   "outputs": [],
   "source": [
    "y_pred = batch.predict(X_test)"
   ]
  },
  {
   "cell_type": "code",
   "execution_count": 196,
   "id": "feca06d2-ad0e-4182-95e3-02814de0b3e3",
   "metadata": {},
   "outputs": [
    {
     "data": {
      "text/plain": [
       "152.04695698782282"
      ]
     },
     "execution_count": 196,
     "metadata": {},
     "output_type": "execute_result"
    }
   ],
   "source": [
    "batch.intercept_"
   ]
  },
  {
   "cell_type": "code",
   "execution_count": 197,
   "id": "4ed42b97-30b6-4d47-898f-e4f8bc313621",
   "metadata": {},
   "outputs": [],
   "source": [
    "scoreGD = r2_score(y_test,y_pred)"
   ]
  },
  {
   "cell_type": "code",
   "execution_count": 198,
   "id": "37cbf91a-e081-4589-8249-37d573e2932d",
   "metadata": {},
   "outputs": [
    {
     "data": {
      "text/plain": [
       "0.4539266726423461"
      ]
     },
     "execution_count": 198,
     "metadata": {},
     "output_type": "execute_result"
    }
   ],
   "source": [
    "scoreGD"
   ]
  },
  {
   "cell_type": "markdown",
   "id": "36a744bb-3886-4537-b94f-9aedba5ecb88",
   "metadata": {},
   "source": [
    "### We are getting better r2 score "
   ]
  },
  {
   "cell_type": "code",
   "execution_count": null,
   "id": "3f5a1f40-0365-45dd-98f6-ceb504c110d0",
   "metadata": {},
   "outputs": [],
   "source": []
  },
  {
   "cell_type": "markdown",
   "id": "774623ac-c62f-4339-adc7-dc33c0442ae5",
   "metadata": {},
   "source": [
    "### Stochastic Gradient Descent (SGD)"
   ]
  },
  {
   "cell_type": "code",
   "execution_count": 149,
   "id": "4538e590-453c-4187-a070-62b272d852c7",
   "metadata": {},
   "outputs": [],
   "source": [
    "import random"
   ]
  },
  {
   "cell_type": "code",
   "execution_count": 172,
   "id": "5ea5ca82-fe5c-4aa7-8e29-7d498b2ed049",
   "metadata": {},
   "outputs": [],
   "source": [
    "class SGD:\n",
    "    def __init__(self,epochs,learning_rate):\n",
    "        self.coef_ = None\n",
    "        self.intercept_ = None\n",
    "        self.epochs = epochs\n",
    "        self.lr = learning_rate\n",
    "\n",
    "    def fit(self,X_train,y_train):\n",
    "        \n",
    "        # Step-1: Initialize Weights\n",
    "        self.coef_ = np.ones(X_train.shape[1]) # Current shape is (442,10) so our total Coef will be 10\n",
    "        self.intercept_ = 1\n",
    "\n",
    "        # In SGD we randomly select a point and then based on that point we update our Coeff\n",
    "        # So we converge to solution faster (Best for large datasets)\n",
    "\n",
    "        for i in range(self.epochs):\n",
    "            for j in range(X_train.shape[0]):\n",
    "                # Selecting a random Index\n",
    "                point = random.randint(0,X_train.shape[0] - 1)\n",
    "                # Step-2: Update Intercepts and Coeffecients\n",
    "                # Update Rule ==> Weight(new) = Weight(old) - lr(Slope)\n",
    "                y_hat = self.intercept_ + np.dot(X_train[point],self.coef_)\n",
    "                intercept_deriv = -2 * (y_train[point] - y_hat)\n",
    "                self.intercept_ = self.intercept_ - self.lr*(intercept_deriv)\n",
    "    \n",
    "                coef_deriv = -2 * np.dot((y_train[point] - y_hat),X_train[point])\n",
    "                self.coef_ = self.coef_ - self.lr*(coef_deriv)\n",
    "        return self.coef_,self.intercept_\n",
    "\n",
    "    def predict(self,X_test):\n",
    "        y_pred = np.dot(X_test,self.coef_) + self.intercept_\n",
    "        return y_pred\n",
    "    "
   ]
  },
  {
   "cell_type": "code",
   "execution_count": 201,
   "id": "3d316732-8e67-46b2-b93e-85053689caf3",
   "metadata": {},
   "outputs": [],
   "source": [
    "sch = SGD(100,0.01)"
   ]
  },
  {
   "cell_type": "code",
   "execution_count": 202,
   "id": "2b13377e-5fe7-44e5-a26c-95487c98ea13",
   "metadata": {},
   "outputs": [
    {
     "data": {
      "text/plain": [
       "(array([  25.78916343, -147.48731479,  459.84290725,  293.37722986,\n",
       "         -25.53511989,  -95.6201644 , -188.42052247,  112.00676136,\n",
       "         411.54530298,  106.95828171]),\n",
       " 146.18871042045205)"
      ]
     },
     "execution_count": 202,
     "metadata": {},
     "output_type": "execute_result"
    }
   ],
   "source": [
    "sch.fit(X_train,y_train)"
   ]
  },
  {
   "cell_type": "code",
   "execution_count": 203,
   "id": "f0f42c41-e06f-41e9-997e-bbf607fba740",
   "metadata": {},
   "outputs": [],
   "source": [
    "y_pred = sch.predict(X_test)"
   ]
  },
  {
   "cell_type": "code",
   "execution_count": 204,
   "id": "9f76b2c6-e949-43ff-8a83-25d8e2959d2c",
   "metadata": {},
   "outputs": [],
   "source": [
    "scoreSGD = r2_score(y_test,y_pred)"
   ]
  },
  {
   "cell_type": "code",
   "execution_count": 205,
   "id": "50ec9f9f-8490-457f-9228-75242c78cd89",
   "metadata": {},
   "outputs": [
    {
     "data": {
      "text/plain": [
       "0.44843073890341123"
      ]
     },
     "execution_count": 205,
     "metadata": {},
     "output_type": "execute_result"
    }
   ],
   "source": [
    "scoreSGD"
   ]
  },
  {
   "cell_type": "code",
   "execution_count": null,
   "id": "e7062697-ec88-4cba-aa97-11ea0d662d78",
   "metadata": {},
   "outputs": [],
   "source": []
  },
  {
   "cell_type": "markdown",
   "id": "d43d4576-48d2-4bed-b47d-45ceae0a3a61",
   "metadata": {},
   "source": [
    "### Mini-Batch Gradient Descent (MBGD)"
   ]
  },
  {
   "cell_type": "code",
   "execution_count": 180,
   "id": "c7227686-2cf3-499a-a18b-8d8a8678f99e",
   "metadata": {},
   "outputs": [],
   "source": [
    "class MBGD:\n",
    "    def __init__(self,epochs,learning_rate,batch_size):\n",
    "        self.coef_ = None\n",
    "        self.intercept_ = None\n",
    "        self.epochs = epochs\n",
    "        self.lr = learning_rate\n",
    "        self.batch = batch_size\n",
    "\n",
    "    def fit(self,X_train,y_train):\n",
    "        \n",
    "        # Step-1: Initialize Weights\n",
    "        self.coef_ = np.ones(X_train.shape[1]) # Current shape is (442,10) so our total Coef will be 10\n",
    "        self.intercept_ = 1\n",
    "\n",
    "        # In SGD we randomly select a point and then based on that point we update our Coeff\n",
    "        # So we converge to solution faster (Best for large datasets)\n",
    "\n",
    "        for i in range(self.epochs):\n",
    "            for j in range(int(X_train.shape[0] / self.batch)):\n",
    "                \n",
    "                point = random.sample(range(X_train.shape[0]),self.batch)\n",
    "                # Step-2: Update Intercepts and Coeffecients\n",
    "                # Update Rule ==> Weight(new) = Weight(old) - lr(Slope)\n",
    "                y_hat = self.intercept_ + np.dot(X_train[point],self.coef_)\n",
    "                intercept_deriv = -2 * np.mean(y_train[point] - y_hat)\n",
    "                \n",
    "                self.intercept_ = self.intercept_ - self.lr*(intercept_deriv)\n",
    "    \n",
    "                coef_deriv = -2 * np.dot((y_train[point] - y_hat),X_train[point])\n",
    "                self.coef_ = self.coef_ - self.lr*(coef_deriv)\n",
    "                \n",
    "        return self.coef_,self.intercept_\n",
    "\n",
    "    def predict(self,X_test):\n",
    "        y_pred = np.dot(X_test,self.coef_) + self.intercept_\n",
    "        return y_pred\n",
    "    "
   ]
  },
  {
   "cell_type": "code",
   "execution_count": 208,
   "id": "c4d1345f-dba4-4417-a4df-edf8573b835f",
   "metadata": {},
   "outputs": [],
   "source": [
    "mbatch = MBGD(100,0.1,20)"
   ]
  },
  {
   "cell_type": "code",
   "execution_count": 209,
   "id": "78b265ff-10dc-4c5f-8ae6-1266c406a95b",
   "metadata": {},
   "outputs": [
    {
     "data": {
      "text/plain": [
       "(array([ -24.20257976, -186.45238507,  539.13956893,  348.14512703,\n",
       "        -128.96971821,  -61.28358615, -171.01179634,   50.579168  ,\n",
       "         591.20028003,   31.09718717]),\n",
       " 156.49348961592557)"
      ]
     },
     "execution_count": 209,
     "metadata": {},
     "output_type": "execute_result"
    }
   ],
   "source": [
    "mbatch.fit(X_train,y_train)"
   ]
  },
  {
   "cell_type": "code",
   "execution_count": 210,
   "id": "6ef2733f-0054-4f7a-9da7-f81fc0859305",
   "metadata": {},
   "outputs": [],
   "source": [
    "y_pred = mbatch.predict(X_test)"
   ]
  },
  {
   "cell_type": "code",
   "execution_count": 211,
   "id": "f7a9f0fc-21c9-4e0a-bc55-d11f068e6d8d",
   "metadata": {},
   "outputs": [],
   "source": [
    "scoreMB = r2_score(y_test,y_pred)"
   ]
  },
  {
   "cell_type": "code",
   "execution_count": 212,
   "id": "4c665f42-ae34-4610-a925-70697e7a189d",
   "metadata": {},
   "outputs": [
    {
     "data": {
      "text/plain": [
       "0.4355377687696036"
      ]
     },
     "execution_count": 212,
     "metadata": {},
     "output_type": "execute_result"
    }
   ],
   "source": [
    "scoreMB"
   ]
  },
  {
   "cell_type": "code",
   "execution_count": null,
   "id": "6608b8ae-802e-4c55-97f4-6d1243058739",
   "metadata": {},
   "outputs": [],
   "source": []
  },
  {
   "cell_type": "code",
   "execution_count": 214,
   "id": "39a828a2-b53a-45ed-b4e2-37e9a6f8c22d",
   "metadata": {},
   "outputs": [
    {
     "data": {
      "image/png": "[encoded data removed]",
      "text/plain": [
       "<Figure size 640x480 with 1 Axes>"
      ]
     },
     "metadata": {},
     "output_type": "display_data"
    }
   ],
   "source": [
    "models = [\"Linear Reg\", \"GD\", \"SGD\", \"MB\"]\n",
    "scores = [scoreLinearreg, scoreGD, scoreSGD, scoreMB]\n",
    "plt.bar(models, scores, color=[\"red\", \"blue\", \"green\", \"orange\"])\n",
    "plt.xlabel(\"Models\")\n",
    "plt.ylabel(\"Score\")\n",
    "plt.title(\"Comparison of Model Scores\")\n",
    "plt.show()"
   ]
  },
  {
   "cell_type": "markdown",
   "id": "d4b7c972-165e-43ed-92a7-1072aa228354",
   "metadata": {},
   "source": [
    "# Conclusion  \n",
    "\n",
    "## Key Takeaways  \n",
    "In this notebook, we successfully implemented **Linear Regression** using both:  \n",
    "- **Closed-form solution (Normal Equation)** for direct computation of optimal parameters.  \n",
    "- **Gradient Descent** to iteratively optimize parameters when direct computation is impractical.  \n",
    "\n",
    "We explored three types of **Gradient Descent**:  \n",
    "1. **Batch Gradient Descent (BGD)** – Stable but computationally expensive.  \n",
    "2. **Stochastic Gradient Descent (SGD)** – Fast but introduces high variance.  \n",
    "3. **Mini-Batch Gradient Descent (MBGD)** – A balance between BGD and SGD, often preferred in practice.  \n",
    "\n",
    "## Performance Comparison  \n",
    "- The **Normal Equation** provided an exact solution but is computationally infeasible for large datasets.  \n",
    "- **Gradient Descent** methods provided approximate solutions, requiring careful tuning of **learning rates** and **iterations** for convergence.  \n",
    "- **Mini-Batch Gradient Descent** showed the best trade-off between efficiency and convergence stability.  \n",
    "\n",
    "## Next Steps  \n",
    "Moving forward, we can extend our approach to **regularized regression methods** such as:  \n",
    "- **Lasso Regression** (L1 Regularization)  \n",
    "- **Ridge Regression** (L2 Regularization)  \n",
    "- **Polynomial Regression** for capturing nonlinear patterns  \n",
    "\n",
    "These techniques will help improve model **generalization** and **interpretability** in more complex datasets.  \n",
    "\n",
    "---\n",
    "\n",
    "This marks the completion of our **Linear Regression with Gradient Descent** implementation. Let’s proceed with **regularized regression models** to enhance model robustness.  \n"
   ]
  },
  {
   "cell_type": "code",
   "execution_count": 217,
   "id": "8f600877-60fa-4931-9948-f10d7902319a",
   "metadata": {},
   "outputs": [
    {
     "data": {
      "image/png": "[encoded data removed]",
      "text/plain": [
       "<Figure size 1000x600 with 1 Axes>"
      ]
     },
     "metadata": {},
     "output_type": "display_data"
    }
   ],
   "source": [
    "from sklearn.preprocessing import PolynomialFeatures\n",
    "from sklearn.linear_model import  Ridge\n",
    "\n",
    "# Set random seed for reproducibility\n",
    "np.random.seed(42)\n",
    "\n",
    "# Generate true sine wave\n",
    "X_true = np.linspace(-np.pi, np.pi, 100).reshape(-1, 1)\n",
    "y_true = np.sin(X_true)\n",
    "\n",
    "# Add noise to the data for training\n",
    "def generate_noisy_sinusoidal_data(n_points, noise_std):\n",
    "    X = np.linspace(-np.pi, np.pi, n_points).reshape(-1, 1)\n",
    "    y = np.sin(X) + np.random.normal(0, noise_std, size=X.shape)\n",
    "    return X, y\n",
    "\n",
    "# Training data (10 noisy points)\n",
    "X_train, y_train = generate_noisy_sinusoidal_data(10, noise_std=0.2)\n",
    "\n",
    "# Testing data (90 noisy points)\n",
    "X_test, y_test = generate_noisy_sinusoidal_data(90, noise_std=0.2)\n",
    "\n",
    "# Plot the true curve, training data, and testing data\n",
    "plt.figure(figsize=(10, 6))\n",
    "plt.plot(X_true, y_true, label='True Sine Wave', color='blue')\n",
    "plt.scatter(X_train, y_train, color='red', label='Training Data (10 points)')\n",
    "plt.scatter(X_test, y_test, color='black', label='Testing Data (90 points)', alpha=0.5)\n",
    "plt.legend()\n",
    "plt.title('Training and Testing Data with Noise')\n",
    "plt.show()"
   ]
  },
  {
   "cell_type": "markdown",
   "id": "c7d1a11d-b557-48a0-9d9b-59c061572d9c",
   "metadata": {},
   "source": [
    "# Plan of Attack  \n",
    "\n",
    "In this section, we aim to explore **Polynomial Regression** and its impact on model performance, particularly in terms of underfitting and overfitting.  \n",
    "\n",
    "## Approach  \n",
    "1. **Generate Sinusoidal Data:**  \n",
    "   - We will use a sine wave as our dataset to demonstrate the challenges of linear models on nonlinear patterns.  \n",
    "\n",
    "2. **Polynomial Regression with Degree 1:**  \n",
    "   - This serves as a baseline and should yield results similar to **Linear Regression**, illustrating underfitting.  \n",
    "\n",
    "3. **Polynomial Regression with Degree 9:**  \n",
    "   - A high-degree polynomial model will be used to demonstrate **overfitting**, capturing noise rather than the underlying trend.  \n",
    "\n",
    "4. **Custom Polynomial Regression Implementation:**  \n",
    "   - We will build our own **Polynomial Regression class** from scratch to verify that our mathematical derivations align with the expected results.  \n",
    "   - This custom model will be tested for **Degree 1 and Degree 9** to validate its correctness against the built-in implementation.  \n",
    "\n",
    "## Expected Outcomes  \n",
    "- **Degree 1:** Poor fit due to underfitting (high bias, low variance).  \n",
    "- **Degree 9:** Excessive complexity leading to overfitting (low bias, high variance).  \n",
    "- **Custom Implementation:** Matches built-in results, proving the correctness of our mathematical formulation.  \n",
    "\n",
    "Through this structured approach, we will gain insights into **bias-variance trade-off** and how polynomial regression helps in capturing nonlinear relationships effectively.  \n"
   ]
  },
  {
   "cell_type": "code",
   "execution_count": 223,
   "id": "1cd9d9e9-2665-4311-bd70-b2e6dc55bfdd",
   "metadata": {},
   "outputs": [
    {
     "data": {
      "image/png": "[encoded data removed]",
      "text/plain": [
       "<Figure size 1000x600 with 1 Axes>"
      ]
     },
     "metadata": {},
     "output_type": "display_data"
    },
    {
     "name": "stdout",
     "output_type": "stream",
     "text": [
      "Linear Regression (Degree 1) - Training Error: 0.2851, Test Error: 0.2901\n",
      "Learned parameters:\n",
      " [[0.         0.21268527]]\n"
     ]
    }
   ],
   "source": [
    "# Perform linear regression (degree=1)\n",
    "poly_features = PolynomialFeatures(degree=1)\n",
    "X_train_poly = poly_features.fit_transform(X_train)\n",
    "X_test_poly = poly_features.fit_transform(X_test)\n",
    "X_true_poly = poly_features.fit_transform(X_true)\n",
    "\n",
    "linear_regressor = LinearRegression()\n",
    "linear_regressor.fit(X_train_poly, y_train)\n",
    "\n",
    "# Predict for both train and test data\n",
    "y_train_pred = linear_regressor.predict(X_train_poly)\n",
    "y_test_pred = linear_regressor.predict(X_test_poly)\n",
    "y_true_pred = linear_regressor.predict(X_true_poly)\n",
    "\n",
    "# Plot the true curve, training points, and linear fit\n",
    "plt.figure(figsize=(10, 6))\n",
    "plt.plot(X_true, y_true, label='True Sine Wave', color='blue')\n",
    "plt.scatter(X_train, y_train, color='red', label='Training Data (10 points)')\n",
    "plt.plot(X_true, y_true_pred, label='Linear Fit (Degree 1)', color='black')\n",
    "plt.legend()\n",
    "plt.title('Linear Regression (Degree 1)')\n",
    "plt.show()\n",
    "\n",
    "# Evaluate the error on both train and test sets\n",
    "train_error = mean_squared_error(y_train, y_train_pred)\n",
    "test_error = mean_squared_error(y_test, y_test_pred)\n",
    "print(f\"Linear Regression (Degree 1) - Training Error: {train_error:.4f}, Test Error: {test_error:.4f}\")\n",
    "print(\"Learned parameters:\\n\", linear_regressor.coef_)"
   ]
  },
  {
   "cell_type": "markdown",
   "id": "3da88693-35fe-4411-9c01-23bf35281871",
   "metadata": {},
   "source": [
    "- Clearly Model is **UnderFitting**"
   ]
  },
  {
   "cell_type": "code",
   "execution_count": 226,
   "id": "0b8e3cca-91ae-4e9c-b63e-2de899edd243",
   "metadata": {},
   "outputs": [
    {
     "data": {
      "image/png": "[encoded data removed]",
      "text/plain": [
       "<Figure size 1000x600 with 1 Axes>"
      ]
     },
     "metadata": {},
     "output_type": "display_data"
    },
    {
     "name": "stdout",
     "output_type": "stream",
     "text": [
      "Polynomial Regression (Degree 9) - Training Error: 0.0000, Test Error: 0.0872\n",
      "Learned parameters:\n",
      " [[ 0.00000000e+00  9.99205043e-01  7.20559275e-01 -1.60028853e-01\n",
      "  -3.47418446e-01  7.76212594e-03  5.39971162e-02 -5.65879676e-04\n",
      "  -2.62935014e-03  3.89527864e-05]]\n"
     ]
    }
   ],
   "source": [
    "# Try polynomial regression with a higher degree (degree=9)\n",
    "poly_features = PolynomialFeatures(degree=9)\n",
    "X_train_poly = poly_features.fit_transform(X_train)\n",
    "X_test_poly = poly_features.fit_transform(X_test)\n",
    "X_true_poly = poly_features.fit_transform(X_true)\n",
    "\n",
    "poly_regressor = LinearRegression()\n",
    "poly_regressor.fit(X_train_poly, y_train)\n",
    "\n",
    "# Predict for both train and test data\n",
    "y_train_pred_poly = poly_regressor.predict(X_train_poly)\n",
    "y_test_pred_poly = poly_regressor.predict(X_test_poly)\n",
    "y_true_pred_poly = poly_regressor.predict(X_true_poly)\n",
    "\n",
    "# Plot the true curve, training points, and high-degree polynomial fit\n",
    "plt.figure(figsize=(10, 6))\n",
    "plt.plot(X_true, y_true, label='True Sine Wave', color='blue')\n",
    "plt.scatter(X_train, y_train, color='red', label='Training Data (10 points)')\n",
    "plt.plot(X_true, y_true_pred_poly, label='Polynomial Fit (Degree 9)', color='black')\n",
    "plt.legend()\n",
    "plt.title('Overfitting: Polynomial Regression (Degree 9)')\n",
    "plt.show()\n",
    "\n",
    "# Evaluate the error on both train and test sets\n",
    "train_error_poly = mean_squared_error(y_train, y_train_pred_poly)\n",
    "test_error_poly = mean_squared_error(y_test, y_test_pred_poly)\n",
    "print(f\"Polynomial Regression (Degree 9) - Training Error: {train_error_poly:.4f}, Test Error: {test_error_poly:.4f}\")\n",
    "print(\"Learned parameters:\\n\", poly_regressor.coef_)"
   ]
  },
  {
   "cell_type": "markdown",
   "id": "4341ec35-f929-41ff-8326-7a30b54f1ef4",
   "metadata": {},
   "source": [
    "### Creating PolyNomial Regression Class"
   ]
  },
  {
   "cell_type": "code",
   "execution_count": 231,
   "id": "86cef7e1-b65d-4552-a657-d3d2064a5cd1",
   "metadata": {},
   "outputs": [],
   "source": [
    "class PolyReg:\n",
    "    def __init__(self,degree):\n",
    "        self.intercept_ = None\n",
    "        self.coef_ = None\n",
    "        self.degree = degree\n",
    "\n",
    "    def fit(self, X_train, y_train):\n",
    "        # we will create 2d matrix with zeroes, will call it A\n",
    "        # Ax = B ==> x = inv(A)*b\n",
    "        A = np.zeros((self.degree + 1, self.degree + 1))\n",
    "        b = np.zeros((self.degree + 1, 1))\n",
    "\n",
    "        for i in range(self.degree + 1):\n",
    "            for j in range(self.degree + 1):\n",
    "                A[i, j] = sum(X_train**(i + j))\n",
    "            b[i] = sum(X_train**i * y_train)\n",
    "\n",
    "        betas = np.dot(np.linalg.inv(A), b)\n",
    "\n",
    "        self.intercept_ = betas[0]  \n",
    "        self.coef_ = betas[1:]\n",
    "        \n",
    "        return self.intercept_, self.coef_\n",
    "\n",
    "    def pred(self, X_test):\n",
    "        poly_terms = np.hstack([X_test ** i for i in range(1, self.degree + 1)])\n",
    "        return np.dot(poly_terms,self.coef_) + self.intercept_"
   ]
  },
  {
   "cell_type": "code",
   "execution_count": 232,
   "id": "be37226f-bc31-4b5f-b1e9-e4e22f15076d",
   "metadata": {},
   "outputs": [],
   "source": [
    "poly = PolyReg(9)"
   ]
  },
  {
   "cell_type": "code",
   "execution_count": 233,
   "id": "4ee39063-4b26-436e-8888-9eea487167e3",
   "metadata": {},
   "outputs": [
    {
     "name": "stderr",
     "output_type": "stream",
     "text": [
      "/tmp/ipykernel_102375/2419935397.py:13: DeprecationWarning:\n",
      "\n",
      "Conversion of an array with ndim > 0 to a scalar is deprecated, and will error in future. Ensure you extract a single element from your array before performing this operation. (Deprecated NumPy 1.25.)\n",
      "\n"
     ]
    },
    {
     "data": {
      "text/plain": [
       "(array([-0.12956609]),\n",
       " array([[ 9.99205043e-01],\n",
       "        [ 7.20559275e-01],\n",
       "        [-1.60028853e-01],\n",
       "        [-3.47418446e-01],\n",
       "        [ 7.76212592e-03],\n",
       "        [ 5.39971162e-02],\n",
       "        [-5.65879673e-04],\n",
       "        [-2.62935014e-03],\n",
       "        [ 3.89527862e-05]]))"
      ]
     },
     "execution_count": 233,
     "metadata": {},
     "output_type": "execute_result"
    }
   ],
   "source": [
    "poly.fit(X_train,y_train)"
   ]
  },
  {
   "cell_type": "markdown",
   "id": "90de9384-19de-4a60-a94e-76ef492e1eff",
   "metadata": {},
   "source": [
    "- We got same Coeff with our Own Implemented Class"
   ]
  },
  {
   "cell_type": "markdown",
   "id": "e0626c69-abff-4e65-8a49-06bce84ce324",
   "metadata": {},
   "source": [
    "### Generalization Using Ridge Regularization\n",
    "\n",
    "Ridge regression modifies the linear (or polynomial) regression loss by adding a regularization term to penalize large weights. This helps prevent overfitting.\n",
    "\n",
    "Loss Function:\n",
    "\n",
    "$\\text{Ridge Loss} = \\frac{1}{n} \\sum_{i=1}^{n} \\left( y_i - \\hat{y}_i \\right)^2 + \\alpha \\sum_{j=1}^{p} w_j^2$\n",
    " \n",
    "where:\n",
    "\n",
    "- $\\frac{1}{n} \\sum_{i=1}^{n} \\left( y_i - \\hat{y}_i \\right)^2$ is the MSE.\n",
    "- $\\sum_{j=1}^{p} w_j^2$ is the L2 regularization term.\n",
    "- $\\alpha$ is a regularization hyperparameter controlling the strength of the penalty.\n",
    "- $w_j$ are the model parameters (weights).\n",
    "\n",
    "The regularization term penalizes large values of weights, effectively discouraging overfitting by smoothing the model's parameters.\n"
   ]
  },
  {
   "cell_type": "code",
   "execution_count": 234,
   "id": "fcc326ab-3968-43df-9958-3c4f7394c1bd",
   "metadata": {},
   "outputs": [
    {
     "data": {
      "image/png": "[encoded data removed]",
      "text/plain": [
       "<Figure size 1000x600 with 1 Axes>"
      ]
     },
     "metadata": {},
     "output_type": "display_data"
    },
    {
     "name": "stdout",
     "output_type": "stream",
     "text": [
      "Ridge Regression (Degree 9) - Training Error: 0.0242, Test Error: 0.0843\n",
      "Learned parameters:\n",
      " [ 0.00000000e+00  4.63903732e-01  1.18176869e-01  2.10992013e-01\n",
      " -1.91123181e-02 -7.09832072e-02 -2.94433406e-03  5.57267043e-03\n",
      "  3.76903355e-04 -1.04106240e-04]\n",
      "Learned parameters:\n",
      " [0.05439698]\n"
     ]
    }
   ],
   "source": [
    "# Ridge regression with regularization (L2 penalty)\n",
    "ridge_regressor = Ridge(alpha=1.0)\n",
    "ridge_regressor.fit(X_train_poly, y_train)\n",
    "\n",
    "# Predict for train, test, and true data\n",
    "y_train_pred_ridge = ridge_regressor.predict(X_train_poly)\n",
    "y_test_pred_ridge = ridge_regressor.predict(X_test_poly)\n",
    "y_true_pred_ridge = ridge_regressor.predict(X_true_poly)\n",
    "\n",
    "# Plot the true curve, training points, and Ridge regression fit\n",
    "plt.figure(figsize=(10, 6))\n",
    "plt.plot(X_true, y_true, label='True Sine Wave', color='blue')\n",
    "plt.scatter(X_train, y_train, color='red', label='Training Data (10 points)')\n",
    "plt.plot(X_true, y_true_pred_ridge, label='Ridge Fit (Degree 9)', color='black')\n",
    "plt.legend()\n",
    "plt.title('Ridge Regularization: Polynomial Regression (Degree 9)')\n",
    "plt.show()\n",
    "\n",
    "# Evaluate the error with Ridge regularization\n",
    "train_error_ridge = mean_squared_error(y_train, y_train_pred_ridge)\n",
    "test_error_ridge = mean_squared_error(y_test, y_test_pred_ridge)\n",
    "print(f\"Ridge Regression (Degree 9) - Training Error: {train_error_ridge:.4f}, Test Error: {test_error_ridge:.4f}\")\n",
    "print(\"Learned parameters:\\n\", ridge_regressor.coef_)\n",
    "print(\"Learned parameters:\\n\", ridge_regressor.intercept_)\n"
   ]
  },
  {
   "cell_type": "markdown",
   "id": "0df8ddcd-65ee-4bfa-b907-256677e0f494",
   "metadata": {},
   "source": [
    "### Implementing Ridge Regression Class"
   ]
  },
  {
   "cell_type": "code",
   "execution_count": 235,
   "id": "b94c61cb-79cc-4ce0-ab1e-84502e3d842c",
   "metadata": {},
   "outputs": [],
   "source": [
    "class RidgePolyReg:\n",
    "    def __init__(self, degree, alpha=1.0):\n",
    "        self.intercept_ = None\n",
    "        self.coef_ = None\n",
    "        self.degree = degree\n",
    "        self.alpha = alpha \n",
    "\n",
    "    def fit(self, X_train, y_train):\n",
    "        # Creating polynomial features\n",
    "        X_poly = np.hstack([X_train ** i for i in range(1, self.degree + 1)])\n",
    "        # We will Add Bias Term\n",
    "        X_poly = np.insert(X_poly, 0, 1, axis=1)  \n",
    "        \n",
    "        # Compute A = X^T * X\n",
    "        A = np.dot(X_poly.T, X_poly)\n",
    "\n",
    "        # Add regularization term (lambda * I)\n",
    "        lambda_I = self.alpha * np.eye(A.shape[0])\n",
    "        lambda_I[0, 0] = 0  # Do NOT regularize intercept\n",
    "        A += lambda_I\n",
    "\n",
    "        # Computing b = X^T * y\n",
    "        b = np.dot(X_poly.T, y_train)\n",
    "        betas = np.linalg.inv(A).dot(b)\n",
    "\n",
    "        self.intercept_ = betas[0]\n",
    "        self.coef_ = betas[1:]\n",
    "        return self.intercept_,self.coef_\n",
    "\n",
    "    def predict(self, X_test):\n",
    "        X_poly = np.hstack([X_test ** i for i in range(1, self.degree + 1)])\n",
    "        return np.dot(X_poly, self.coef_) + self.intercept_\n"
   ]
  },
  {
   "cell_type": "code",
   "execution_count": 236,
   "id": "e6b41a07-0018-4f9c-a6be-fe15414af2ac",
   "metadata": {},
   "outputs": [],
   "source": [
    "ridg = RidgePolyReg(9,alpha=1.0)"
   ]
  },
  {
   "cell_type": "code",
   "execution_count": 237,
   "id": "48289c68-5e03-4955-94b9-77d607888909",
   "metadata": {},
   "outputs": [
    {
     "data": {
      "text/plain": [
       "(array([0.05439698]),\n",
       " array([[ 4.63903732e-01],\n",
       "        [ 1.18176869e-01],\n",
       "        [ 2.10992013e-01],\n",
       "        [-1.91123181e-02],\n",
       "        [-7.09832072e-02],\n",
       "        [-2.94433406e-03],\n",
       "        [ 5.57267043e-03],\n",
       "        [ 3.76903355e-04],\n",
       "        [-1.04106240e-04]]))"
      ]
     },
     "execution_count": 237,
     "metadata": {},
     "output_type": "execute_result"
    }
   ],
   "source": [
    "ridg.fit(X_train,y_train)"
   ]
  },
  {
   "cell_type": "markdown",
   "id": "c1f3040d-ecfa-4d66-b252-4eafcaf94a08",
   "metadata": {},
   "source": [
    "##### We Got Same Coeffecients with Our Class"
   ]
  },
  {
   "cell_type": "code",
   "execution_count": null,
   "id": "29904571-1fc6-4fc2-8b3e-6bc9a66bdbbe",
   "metadata": {},
   "outputs": [],
   "source": []
  },
  {
   "cell_type": "code",
   "execution_count": null,
   "id": "e957aa9d-96c1-470b-86f6-5a47f657c931",
   "metadata": {},
   "outputs": [],
   "source": []
  }
 ],
 "metadata": {
  "kernelspec": {
   "display_name": "Python 3 (ipykernel)",
   "language": "python",
   "name": "python3"
  },
  "language_info": {
   "codemirror_mode": {
    "name": "ipython",
    "version": 3
   },
   "file_extension": ".py",
   "mimetype": "text/x-python",
   "name": "python",
   "nbconvert_exporter": "python",
   "pygments_lexer": "ipython3",
   "version": "3.10.12"
  }
 },
 "nbformat": 4,
 "nbformat_minor": 5
}
